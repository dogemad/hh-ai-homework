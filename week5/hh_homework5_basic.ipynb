{
  "nbformat": 4,
  "nbformat_minor": 0,
  "metadata": {
    "colab": {
      "provenance": []
    },
    "kernelspec": {
      "name": "python3",
      "display_name": "Python 3"
    },
    "language_info": {
      "name": "python"
    }
  },
  "cells": [
    {
      "cell_type": "code",
      "execution_count": 1,
      "metadata": {
        "colab": {
          "base_uri": "https://localhost:8080/"
        },
        "id": "TwaANvAGIwl4",
        "outputId": "cdf55742-d489-4a03-e38e-fcd09f689d19"
      },
      "outputs": [
        {
          "output_type": "stream",
          "name": "stdout",
          "text": [
            "Collecting langchain-community\n",
            "  Downloading langchain_community-0.3.22-py3-none-any.whl.metadata (2.4 kB)\n",
            "Collecting langchain-chroma\n",
            "  Downloading langchain_chroma-0.2.3-py3-none-any.whl.metadata (1.1 kB)\n",
            "Collecting langchain-openai\n",
            "  Downloading langchain_openai-0.3.14-py3-none-any.whl.metadata (2.3 kB)\n",
            "Collecting bs4\n",
            "  Downloading bs4-0.0.2-py2.py3-none-any.whl.metadata (411 bytes)\n",
            "Requirement already satisfied: langchain-core<1.0.0,>=0.3.55 in /usr/local/lib/python3.11/dist-packages (from langchain-community) (0.3.55)\n",
            "Requirement already satisfied: langchain<1.0.0,>=0.3.24 in /usr/local/lib/python3.11/dist-packages (from langchain-community) (0.3.24)\n",
            "Requirement already satisfied: SQLAlchemy<3,>=1.4 in /usr/local/lib/python3.11/dist-packages (from langchain-community) (2.0.40)\n",
            "Requirement already satisfied: requests<3,>=2 in /usr/local/lib/python3.11/dist-packages (from langchain-community) (2.32.3)\n",
            "Requirement already satisfied: PyYAML>=5.3 in /usr/local/lib/python3.11/dist-packages (from langchain-community) (6.0.2)\n",
            "Requirement already satisfied: aiohttp<4.0.0,>=3.8.3 in /usr/local/lib/python3.11/dist-packages (from langchain-community) (3.11.15)\n",
            "Requirement already satisfied: tenacity!=8.4.0,<10,>=8.1.0 in /usr/local/lib/python3.11/dist-packages (from langchain-community) (9.1.2)\n",
            "Collecting dataclasses-json<0.7,>=0.5.7 (from langchain-community)\n",
            "  Downloading dataclasses_json-0.6.7-py3-none-any.whl.metadata (25 kB)\n",
            "Collecting pydantic-settings<3.0.0,>=2.4.0 (from langchain-community)\n",
            "  Downloading pydantic_settings-2.9.1-py3-none-any.whl.metadata (3.8 kB)\n",
            "Requirement already satisfied: langsmith<0.4,>=0.1.125 in /usr/local/lib/python3.11/dist-packages (from langchain-community) (0.3.33)\n",
            "Collecting httpx-sse<1.0.0,>=0.4.0 (from langchain-community)\n",
            "  Downloading httpx_sse-0.4.0-py3-none-any.whl.metadata (9.0 kB)\n",
            "Requirement already satisfied: numpy>=1.26.2 in /usr/local/lib/python3.11/dist-packages (from langchain-community) (2.0.2)\n",
            "Collecting chromadb!=0.5.10,!=0.5.11,!=0.5.12,!=0.5.4,!=0.5.5,!=0.5.7,!=0.5.9,<0.7.0,>=0.4.0 (from langchain-chroma)\n",
            "  Downloading chromadb-0.6.3-py3-none-any.whl.metadata (6.8 kB)\n",
            "Requirement already satisfied: openai<2.0.0,>=1.68.2 in /usr/local/lib/python3.11/dist-packages (from langchain-openai) (1.75.0)\n",
            "Collecting tiktoken<1,>=0.7 (from langchain-openai)\n",
            "  Downloading tiktoken-0.9.0-cp311-cp311-manylinux_2_17_x86_64.manylinux2014_x86_64.whl.metadata (6.7 kB)\n",
            "Requirement already satisfied: beautifulsoup4 in /usr/local/lib/python3.11/dist-packages (from bs4) (4.13.4)\n",
            "Requirement already satisfied: aiohappyeyeballs>=2.3.0 in /usr/local/lib/python3.11/dist-packages (from aiohttp<4.0.0,>=3.8.3->langchain-community) (2.6.1)\n",
            "Requirement already satisfied: aiosignal>=1.1.2 in /usr/local/lib/python3.11/dist-packages (from aiohttp<4.0.0,>=3.8.3->langchain-community) (1.3.2)\n",
            "Requirement already satisfied: attrs>=17.3.0 in /usr/local/lib/python3.11/dist-packages (from aiohttp<4.0.0,>=3.8.3->langchain-community) (25.3.0)\n",
            "Requirement already satisfied: frozenlist>=1.1.1 in /usr/local/lib/python3.11/dist-packages (from aiohttp<4.0.0,>=3.8.3->langchain-community) (1.6.0)\n",
            "Requirement already satisfied: multidict<7.0,>=4.5 in /usr/local/lib/python3.11/dist-packages (from aiohttp<4.0.0,>=3.8.3->langchain-community) (6.4.3)\n",
            "Requirement already satisfied: propcache>=0.2.0 in /usr/local/lib/python3.11/dist-packages (from aiohttp<4.0.0,>=3.8.3->langchain-community) (0.3.1)\n",
            "Requirement already satisfied: yarl<2.0,>=1.17.0 in /usr/local/lib/python3.11/dist-packages (from aiohttp<4.0.0,>=3.8.3->langchain-community) (1.20.0)\n",
            "Collecting build>=1.0.3 (from chromadb!=0.5.10,!=0.5.11,!=0.5.12,!=0.5.4,!=0.5.5,!=0.5.7,!=0.5.9,<0.7.0,>=0.4.0->langchain-chroma)\n",
            "  Downloading build-1.2.2.post1-py3-none-any.whl.metadata (6.5 kB)\n",
            "Requirement already satisfied: pydantic>=1.9 in /usr/local/lib/python3.11/dist-packages (from chromadb!=0.5.10,!=0.5.11,!=0.5.12,!=0.5.4,!=0.5.5,!=0.5.7,!=0.5.9,<0.7.0,>=0.4.0->langchain-chroma) (2.11.3)\n",
            "Collecting chroma-hnswlib==0.7.6 (from chromadb!=0.5.10,!=0.5.11,!=0.5.12,!=0.5.4,!=0.5.5,!=0.5.7,!=0.5.9,<0.7.0,>=0.4.0->langchain-chroma)\n",
            "  Downloading chroma_hnswlib-0.7.6-cp311-cp311-manylinux_2_17_x86_64.manylinux2014_x86_64.whl.metadata (252 bytes)\n",
            "Collecting fastapi>=0.95.2 (from chromadb!=0.5.10,!=0.5.11,!=0.5.12,!=0.5.4,!=0.5.5,!=0.5.7,!=0.5.9,<0.7.0,>=0.4.0->langchain-chroma)\n",
            "  Downloading fastapi-0.115.12-py3-none-any.whl.metadata (27 kB)\n",
            "Collecting uvicorn>=0.18.3 (from uvicorn[standard]>=0.18.3->chromadb!=0.5.10,!=0.5.11,!=0.5.12,!=0.5.4,!=0.5.5,!=0.5.7,!=0.5.9,<0.7.0,>=0.4.0->langchain-chroma)\n",
            "  Downloading uvicorn-0.34.2-py3-none-any.whl.metadata (6.5 kB)\n",
            "Collecting posthog>=2.4.0 (from chromadb!=0.5.10,!=0.5.11,!=0.5.12,!=0.5.4,!=0.5.5,!=0.5.7,!=0.5.9,<0.7.0,>=0.4.0->langchain-chroma)\n",
            "  Downloading posthog-4.0.0-py2.py3-none-any.whl.metadata (3.0 kB)\n",
            "Requirement already satisfied: typing_extensions>=4.5.0 in /usr/local/lib/python3.11/dist-packages (from chromadb!=0.5.10,!=0.5.11,!=0.5.12,!=0.5.4,!=0.5.5,!=0.5.7,!=0.5.9,<0.7.0,>=0.4.0->langchain-chroma) (4.13.2)\n",
            "Collecting onnxruntime>=1.14.1 (from chromadb!=0.5.10,!=0.5.11,!=0.5.12,!=0.5.4,!=0.5.5,!=0.5.7,!=0.5.9,<0.7.0,>=0.4.0->langchain-chroma)\n",
            "  Downloading onnxruntime-1.21.1-cp311-cp311-manylinux_2_27_x86_64.manylinux_2_28_x86_64.whl.metadata (4.5 kB)\n",
            "Requirement already satisfied: opentelemetry-api>=1.2.0 in /usr/local/lib/python3.11/dist-packages (from chromadb!=0.5.10,!=0.5.11,!=0.5.12,!=0.5.4,!=0.5.5,!=0.5.7,!=0.5.9,<0.7.0,>=0.4.0->langchain-chroma) (1.32.1)\n",
            "Collecting opentelemetry-exporter-otlp-proto-grpc>=1.2.0 (from chromadb!=0.5.10,!=0.5.11,!=0.5.12,!=0.5.4,!=0.5.5,!=0.5.7,!=0.5.9,<0.7.0,>=0.4.0->langchain-chroma)\n",
            "  Downloading opentelemetry_exporter_otlp_proto_grpc-1.32.1-py3-none-any.whl.metadata (2.5 kB)\n",
            "Collecting opentelemetry-instrumentation-fastapi>=0.41b0 (from chromadb!=0.5.10,!=0.5.11,!=0.5.12,!=0.5.4,!=0.5.5,!=0.5.7,!=0.5.9,<0.7.0,>=0.4.0->langchain-chroma)\n",
            "  Downloading opentelemetry_instrumentation_fastapi-0.53b1-py3-none-any.whl.metadata (2.2 kB)\n",
            "Requirement already satisfied: opentelemetry-sdk>=1.2.0 in /usr/local/lib/python3.11/dist-packages (from chromadb!=0.5.10,!=0.5.11,!=0.5.12,!=0.5.4,!=0.5.5,!=0.5.7,!=0.5.9,<0.7.0,>=0.4.0->langchain-chroma) (1.32.1)\n",
            "Requirement already satisfied: tokenizers>=0.13.2 in /usr/local/lib/python3.11/dist-packages (from chromadb!=0.5.10,!=0.5.11,!=0.5.12,!=0.5.4,!=0.5.5,!=0.5.7,!=0.5.9,<0.7.0,>=0.4.0->langchain-chroma) (0.21.1)\n",
            "Collecting pypika>=0.48.9 (from chromadb!=0.5.10,!=0.5.11,!=0.5.12,!=0.5.4,!=0.5.5,!=0.5.7,!=0.5.9,<0.7.0,>=0.4.0->langchain-chroma)\n",
            "  Downloading PyPika-0.48.9.tar.gz (67 kB)\n",
            "\u001b[2K     \u001b[90m━━━━━━━━━━━━━━━━━━━━━━━━━━━━━━━━━━━━━━━━\u001b[0m \u001b[32m67.3/67.3 kB\u001b[0m \u001b[31m3.1 MB/s\u001b[0m eta \u001b[36m0:00:00\u001b[0m\n",
            "\u001b[?25h  Installing build dependencies ... \u001b[?25l\u001b[?25hdone\n",
            "  Getting requirements to build wheel ... \u001b[?25l\u001b[?25hdone\n",
            "  Preparing metadata (pyproject.toml) ... \u001b[?25l\u001b[?25hdone\n",
            "Requirement already satisfied: tqdm>=4.65.0 in /usr/local/lib/python3.11/dist-packages (from chromadb!=0.5.10,!=0.5.11,!=0.5.12,!=0.5.4,!=0.5.5,!=0.5.7,!=0.5.9,<0.7.0,>=0.4.0->langchain-chroma) (4.67.1)\n",
            "Collecting overrides>=7.3.1 (from chromadb!=0.5.10,!=0.5.11,!=0.5.12,!=0.5.4,!=0.5.5,!=0.5.7,!=0.5.9,<0.7.0,>=0.4.0->langchain-chroma)\n",
            "  Downloading overrides-7.7.0-py3-none-any.whl.metadata (5.8 kB)\n",
            "Requirement already satisfied: importlib-resources in /usr/local/lib/python3.11/dist-packages (from chromadb!=0.5.10,!=0.5.11,!=0.5.12,!=0.5.4,!=0.5.5,!=0.5.7,!=0.5.9,<0.7.0,>=0.4.0->langchain-chroma) (6.5.2)\n",
            "Requirement already satisfied: grpcio>=1.58.0 in /usr/local/lib/python3.11/dist-packages (from chromadb!=0.5.10,!=0.5.11,!=0.5.12,!=0.5.4,!=0.5.5,!=0.5.7,!=0.5.9,<0.7.0,>=0.4.0->langchain-chroma) (1.71.0)\n",
            "Collecting bcrypt>=4.0.1 (from chromadb!=0.5.10,!=0.5.11,!=0.5.12,!=0.5.4,!=0.5.5,!=0.5.7,!=0.5.9,<0.7.0,>=0.4.0->langchain-chroma)\n",
            "  Downloading bcrypt-4.3.0-cp39-abi3-manylinux_2_34_x86_64.whl.metadata (10 kB)\n",
            "Requirement already satisfied: typer>=0.9.0 in /usr/local/lib/python3.11/dist-packages (from chromadb!=0.5.10,!=0.5.11,!=0.5.12,!=0.5.4,!=0.5.5,!=0.5.7,!=0.5.9,<0.7.0,>=0.4.0->langchain-chroma) (0.15.2)\n",
            "Collecting kubernetes>=28.1.0 (from chromadb!=0.5.10,!=0.5.11,!=0.5.12,!=0.5.4,!=0.5.5,!=0.5.7,!=0.5.9,<0.7.0,>=0.4.0->langchain-chroma)\n",
            "  Downloading kubernetes-32.0.1-py2.py3-none-any.whl.metadata (1.7 kB)\n",
            "Collecting mmh3>=4.0.1 (from chromadb!=0.5.10,!=0.5.11,!=0.5.12,!=0.5.4,!=0.5.5,!=0.5.7,!=0.5.9,<0.7.0,>=0.4.0->langchain-chroma)\n",
            "  Downloading mmh3-5.1.0-cp311-cp311-manylinux_2_5_x86_64.manylinux1_x86_64.manylinux_2_17_x86_64.manylinux2014_x86_64.whl.metadata (16 kB)\n",
            "Requirement already satisfied: orjson>=3.9.12 in /usr/local/lib/python3.11/dist-packages (from chromadb!=0.5.10,!=0.5.11,!=0.5.12,!=0.5.4,!=0.5.5,!=0.5.7,!=0.5.9,<0.7.0,>=0.4.0->langchain-chroma) (3.10.16)\n",
            "Requirement already satisfied: httpx>=0.27.0 in /usr/local/lib/python3.11/dist-packages (from chromadb!=0.5.10,!=0.5.11,!=0.5.12,!=0.5.4,!=0.5.5,!=0.5.7,!=0.5.9,<0.7.0,>=0.4.0->langchain-chroma) (0.28.1)\n",
            "Requirement already satisfied: rich>=10.11.0 in /usr/local/lib/python3.11/dist-packages (from chromadb!=0.5.10,!=0.5.11,!=0.5.12,!=0.5.4,!=0.5.5,!=0.5.7,!=0.5.9,<0.7.0,>=0.4.0->langchain-chroma) (13.9.4)\n",
            "Collecting marshmallow<4.0.0,>=3.18.0 (from dataclasses-json<0.7,>=0.5.7->langchain-community)\n",
            "  Downloading marshmallow-3.26.1-py3-none-any.whl.metadata (7.3 kB)\n",
            "Collecting typing-inspect<1,>=0.4.0 (from dataclasses-json<0.7,>=0.5.7->langchain-community)\n",
            "  Downloading typing_inspect-0.9.0-py3-none-any.whl.metadata (1.5 kB)\n",
            "Requirement already satisfied: langchain-text-splitters<1.0.0,>=0.3.8 in /usr/local/lib/python3.11/dist-packages (from langchain<1.0.0,>=0.3.24->langchain-community) (0.3.8)\n",
            "Requirement already satisfied: jsonpatch<2.0,>=1.33 in /usr/local/lib/python3.11/dist-packages (from langchain-core<1.0.0,>=0.3.55->langchain-community) (1.33)\n",
            "Requirement already satisfied: packaging<25,>=23.2 in /usr/local/lib/python3.11/dist-packages (from langchain-core<1.0.0,>=0.3.55->langchain-community) (24.2)\n",
            "Requirement already satisfied: requests-toolbelt<2.0.0,>=1.0.0 in /usr/local/lib/python3.11/dist-packages (from langsmith<0.4,>=0.1.125->langchain-community) (1.0.0)\n",
            "Requirement already satisfied: zstandard<0.24.0,>=0.23.0 in /usr/local/lib/python3.11/dist-packages (from langsmith<0.4,>=0.1.125->langchain-community) (0.23.0)\n",
            "Requirement already satisfied: anyio<5,>=3.5.0 in /usr/local/lib/python3.11/dist-packages (from openai<2.0.0,>=1.68.2->langchain-openai) (4.9.0)\n",
            "Requirement already satisfied: distro<2,>=1.7.0 in /usr/local/lib/python3.11/dist-packages (from openai<2.0.0,>=1.68.2->langchain-openai) (1.9.0)\n",
            "Requirement already satisfied: jiter<1,>=0.4.0 in /usr/local/lib/python3.11/dist-packages (from openai<2.0.0,>=1.68.2->langchain-openai) (0.9.0)\n",
            "Requirement already satisfied: sniffio in /usr/local/lib/python3.11/dist-packages (from openai<2.0.0,>=1.68.2->langchain-openai) (1.3.1)\n",
            "Collecting python-dotenv>=0.21.0 (from pydantic-settings<3.0.0,>=2.4.0->langchain-community)\n",
            "  Downloading python_dotenv-1.1.0-py3-none-any.whl.metadata (24 kB)\n",
            "Requirement already satisfied: typing-inspection>=0.4.0 in /usr/local/lib/python3.11/dist-packages (from pydantic-settings<3.0.0,>=2.4.0->langchain-community) (0.4.0)\n",
            "Requirement already satisfied: charset-normalizer<4,>=2 in /usr/local/lib/python3.11/dist-packages (from requests<3,>=2->langchain-community) (3.4.1)\n",
            "Requirement already satisfied: idna<4,>=2.5 in /usr/local/lib/python3.11/dist-packages (from requests<3,>=2->langchain-community) (3.10)\n",
            "Requirement already satisfied: urllib3<3,>=1.21.1 in /usr/local/lib/python3.11/dist-packages (from requests<3,>=2->langchain-community) (2.3.0)\n",
            "Requirement already satisfied: certifi>=2017.4.17 in /usr/local/lib/python3.11/dist-packages (from requests<3,>=2->langchain-community) (2025.1.31)\n",
            "Requirement already satisfied: greenlet>=1 in /usr/local/lib/python3.11/dist-packages (from SQLAlchemy<3,>=1.4->langchain-community) (3.2.1)\n",
            "Requirement already satisfied: regex>=2022.1.18 in /usr/local/lib/python3.11/dist-packages (from tiktoken<1,>=0.7->langchain-openai) (2024.11.6)\n",
            "Requirement already satisfied: soupsieve>1.2 in /usr/local/lib/python3.11/dist-packages (from beautifulsoup4->bs4) (2.7)\n",
            "Collecting pyproject_hooks (from build>=1.0.3->chromadb!=0.5.10,!=0.5.11,!=0.5.12,!=0.5.4,!=0.5.5,!=0.5.7,!=0.5.9,<0.7.0,>=0.4.0->langchain-chroma)\n",
            "  Downloading pyproject_hooks-1.2.0-py3-none-any.whl.metadata (1.3 kB)\n",
            "Collecting starlette<0.47.0,>=0.40.0 (from fastapi>=0.95.2->chromadb!=0.5.10,!=0.5.11,!=0.5.12,!=0.5.4,!=0.5.5,!=0.5.7,!=0.5.9,<0.7.0,>=0.4.0->langchain-chroma)\n",
            "  Downloading starlette-0.46.2-py3-none-any.whl.metadata (6.2 kB)\n",
            "Requirement already satisfied: httpcore==1.* in /usr/local/lib/python3.11/dist-packages (from httpx>=0.27.0->chromadb!=0.5.10,!=0.5.11,!=0.5.12,!=0.5.4,!=0.5.5,!=0.5.7,!=0.5.9,<0.7.0,>=0.4.0->langchain-chroma) (1.0.8)\n",
            "Requirement already satisfied: h11<0.15,>=0.13 in /usr/local/lib/python3.11/dist-packages (from httpcore==1.*->httpx>=0.27.0->chromadb!=0.5.10,!=0.5.11,!=0.5.12,!=0.5.4,!=0.5.5,!=0.5.7,!=0.5.9,<0.7.0,>=0.4.0->langchain-chroma) (0.14.0)\n",
            "Requirement already satisfied: jsonpointer>=1.9 in /usr/local/lib/python3.11/dist-packages (from jsonpatch<2.0,>=1.33->langchain-core<1.0.0,>=0.3.55->langchain-community) (3.0.0)\n",
            "Requirement already satisfied: six>=1.9.0 in /usr/local/lib/python3.11/dist-packages (from kubernetes>=28.1.0->chromadb!=0.5.10,!=0.5.11,!=0.5.12,!=0.5.4,!=0.5.5,!=0.5.7,!=0.5.9,<0.7.0,>=0.4.0->langchain-chroma) (1.17.0)\n",
            "Requirement already satisfied: python-dateutil>=2.5.3 in /usr/local/lib/python3.11/dist-packages (from kubernetes>=28.1.0->chromadb!=0.5.10,!=0.5.11,!=0.5.12,!=0.5.4,!=0.5.5,!=0.5.7,!=0.5.9,<0.7.0,>=0.4.0->langchain-chroma) (2.8.2)\n",
            "Requirement already satisfied: google-auth>=1.0.1 in /usr/local/lib/python3.11/dist-packages (from kubernetes>=28.1.0->chromadb!=0.5.10,!=0.5.11,!=0.5.12,!=0.5.4,!=0.5.5,!=0.5.7,!=0.5.9,<0.7.0,>=0.4.0->langchain-chroma) (2.38.0)\n",
            "Requirement already satisfied: websocket-client!=0.40.0,!=0.41.*,!=0.42.*,>=0.32.0 in /usr/local/lib/python3.11/dist-packages (from kubernetes>=28.1.0->chromadb!=0.5.10,!=0.5.11,!=0.5.12,!=0.5.4,!=0.5.5,!=0.5.7,!=0.5.9,<0.7.0,>=0.4.0->langchain-chroma) (1.8.0)\n",
            "Requirement already satisfied: requests-oauthlib in /usr/local/lib/python3.11/dist-packages (from kubernetes>=28.1.0->chromadb!=0.5.10,!=0.5.11,!=0.5.12,!=0.5.4,!=0.5.5,!=0.5.7,!=0.5.9,<0.7.0,>=0.4.0->langchain-chroma) (2.0.0)\n",
            "Requirement already satisfied: oauthlib>=3.2.2 in /usr/local/lib/python3.11/dist-packages (from kubernetes>=28.1.0->chromadb!=0.5.10,!=0.5.11,!=0.5.12,!=0.5.4,!=0.5.5,!=0.5.7,!=0.5.9,<0.7.0,>=0.4.0->langchain-chroma) (3.2.2)\n",
            "Collecting durationpy>=0.7 (from kubernetes>=28.1.0->chromadb!=0.5.10,!=0.5.11,!=0.5.12,!=0.5.4,!=0.5.5,!=0.5.7,!=0.5.9,<0.7.0,>=0.4.0->langchain-chroma)\n",
            "  Downloading durationpy-0.9-py3-none-any.whl.metadata (338 bytes)\n",
            "Collecting coloredlogs (from onnxruntime>=1.14.1->chromadb!=0.5.10,!=0.5.11,!=0.5.12,!=0.5.4,!=0.5.5,!=0.5.7,!=0.5.9,<0.7.0,>=0.4.0->langchain-chroma)\n",
            "  Downloading coloredlogs-15.0.1-py2.py3-none-any.whl.metadata (12 kB)\n",
            "Requirement already satisfied: flatbuffers in /usr/local/lib/python3.11/dist-packages (from onnxruntime>=1.14.1->chromadb!=0.5.10,!=0.5.11,!=0.5.12,!=0.5.4,!=0.5.5,!=0.5.7,!=0.5.9,<0.7.0,>=0.4.0->langchain-chroma) (25.2.10)\n",
            "Requirement already satisfied: protobuf in /usr/local/lib/python3.11/dist-packages (from onnxruntime>=1.14.1->chromadb!=0.5.10,!=0.5.11,!=0.5.12,!=0.5.4,!=0.5.5,!=0.5.7,!=0.5.9,<0.7.0,>=0.4.0->langchain-chroma) (5.29.4)\n",
            "Requirement already satisfied: sympy in /usr/local/lib/python3.11/dist-packages (from onnxruntime>=1.14.1->chromadb!=0.5.10,!=0.5.11,!=0.5.12,!=0.5.4,!=0.5.5,!=0.5.7,!=0.5.9,<0.7.0,>=0.4.0->langchain-chroma) (1.13.1)\n",
            "Requirement already satisfied: deprecated>=1.2.6 in /usr/local/lib/python3.11/dist-packages (from opentelemetry-api>=1.2.0->chromadb!=0.5.10,!=0.5.11,!=0.5.12,!=0.5.4,!=0.5.5,!=0.5.7,!=0.5.9,<0.7.0,>=0.4.0->langchain-chroma) (1.2.18)\n",
            "Requirement already satisfied: importlib-metadata<8.7.0,>=6.0 in /usr/local/lib/python3.11/dist-packages (from opentelemetry-api>=1.2.0->chromadb!=0.5.10,!=0.5.11,!=0.5.12,!=0.5.4,!=0.5.5,!=0.5.7,!=0.5.9,<0.7.0,>=0.4.0->langchain-chroma) (8.6.1)\n",
            "Requirement already satisfied: googleapis-common-protos~=1.52 in /usr/local/lib/python3.11/dist-packages (from opentelemetry-exporter-otlp-proto-grpc>=1.2.0->chromadb!=0.5.10,!=0.5.11,!=0.5.12,!=0.5.4,!=0.5.5,!=0.5.7,!=0.5.9,<0.7.0,>=0.4.0->langchain-chroma) (1.70.0)\n",
            "Collecting opentelemetry-exporter-otlp-proto-common==1.32.1 (from opentelemetry-exporter-otlp-proto-grpc>=1.2.0->chromadb!=0.5.10,!=0.5.11,!=0.5.12,!=0.5.4,!=0.5.5,!=0.5.7,!=0.5.9,<0.7.0,>=0.4.0->langchain-chroma)\n",
            "  Downloading opentelemetry_exporter_otlp_proto_common-1.32.1-py3-none-any.whl.metadata (1.9 kB)\n",
            "Collecting opentelemetry-proto==1.32.1 (from opentelemetry-exporter-otlp-proto-grpc>=1.2.0->chromadb!=0.5.10,!=0.5.11,!=0.5.12,!=0.5.4,!=0.5.5,!=0.5.7,!=0.5.9,<0.7.0,>=0.4.0->langchain-chroma)\n",
            "  Downloading opentelemetry_proto-1.32.1-py3-none-any.whl.metadata (2.4 kB)\n",
            "Collecting opentelemetry-instrumentation-asgi==0.53b1 (from opentelemetry-instrumentation-fastapi>=0.41b0->chromadb!=0.5.10,!=0.5.11,!=0.5.12,!=0.5.4,!=0.5.5,!=0.5.7,!=0.5.9,<0.7.0,>=0.4.0->langchain-chroma)\n",
            "  Downloading opentelemetry_instrumentation_asgi-0.53b1-py3-none-any.whl.metadata (2.1 kB)\n",
            "Collecting opentelemetry-instrumentation==0.53b1 (from opentelemetry-instrumentation-fastapi>=0.41b0->chromadb!=0.5.10,!=0.5.11,!=0.5.12,!=0.5.4,!=0.5.5,!=0.5.7,!=0.5.9,<0.7.0,>=0.4.0->langchain-chroma)\n",
            "  Downloading opentelemetry_instrumentation-0.53b1-py3-none-any.whl.metadata (6.8 kB)\n",
            "Requirement already satisfied: opentelemetry-semantic-conventions==0.53b1 in /usr/local/lib/python3.11/dist-packages (from opentelemetry-instrumentation-fastapi>=0.41b0->chromadb!=0.5.10,!=0.5.11,!=0.5.12,!=0.5.4,!=0.5.5,!=0.5.7,!=0.5.9,<0.7.0,>=0.4.0->langchain-chroma) (0.53b1)\n",
            "Collecting opentelemetry-util-http==0.53b1 (from opentelemetry-instrumentation-fastapi>=0.41b0->chromadb!=0.5.10,!=0.5.11,!=0.5.12,!=0.5.4,!=0.5.5,!=0.5.7,!=0.5.9,<0.7.0,>=0.4.0->langchain-chroma)\n",
            "  Downloading opentelemetry_util_http-0.53b1-py3-none-any.whl.metadata (2.6 kB)\n",
            "Requirement already satisfied: wrapt<2.0.0,>=1.0.0 in /usr/local/lib/python3.11/dist-packages (from opentelemetry-instrumentation==0.53b1->opentelemetry-instrumentation-fastapi>=0.41b0->chromadb!=0.5.10,!=0.5.11,!=0.5.12,!=0.5.4,!=0.5.5,!=0.5.7,!=0.5.9,<0.7.0,>=0.4.0->langchain-chroma) (1.17.2)\n",
            "Collecting asgiref~=3.0 (from opentelemetry-instrumentation-asgi==0.53b1->opentelemetry-instrumentation-fastapi>=0.41b0->chromadb!=0.5.10,!=0.5.11,!=0.5.12,!=0.5.4,!=0.5.5,!=0.5.7,!=0.5.9,<0.7.0,>=0.4.0->langchain-chroma)\n",
            "  Downloading asgiref-3.8.1-py3-none-any.whl.metadata (9.3 kB)\n",
            "Collecting monotonic>=1.5 (from posthog>=2.4.0->chromadb!=0.5.10,!=0.5.11,!=0.5.12,!=0.5.4,!=0.5.5,!=0.5.7,!=0.5.9,<0.7.0,>=0.4.0->langchain-chroma)\n",
            "  Downloading monotonic-1.6-py2.py3-none-any.whl.metadata (1.5 kB)\n",
            "Collecting backoff>=1.10.0 (from posthog>=2.4.0->chromadb!=0.5.10,!=0.5.11,!=0.5.12,!=0.5.4,!=0.5.5,!=0.5.7,!=0.5.9,<0.7.0,>=0.4.0->langchain-chroma)\n",
            "  Downloading backoff-2.2.1-py3-none-any.whl.metadata (14 kB)\n",
            "Requirement already satisfied: annotated-types>=0.6.0 in /usr/local/lib/python3.11/dist-packages (from pydantic>=1.9->chromadb!=0.5.10,!=0.5.11,!=0.5.12,!=0.5.4,!=0.5.5,!=0.5.7,!=0.5.9,<0.7.0,>=0.4.0->langchain-chroma) (0.7.0)\n",
            "Requirement already satisfied: pydantic-core==2.33.1 in /usr/local/lib/python3.11/dist-packages (from pydantic>=1.9->chromadb!=0.5.10,!=0.5.11,!=0.5.12,!=0.5.4,!=0.5.5,!=0.5.7,!=0.5.9,<0.7.0,>=0.4.0->langchain-chroma) (2.33.1)\n",
            "Requirement already satisfied: markdown-it-py>=2.2.0 in /usr/local/lib/python3.11/dist-packages (from rich>=10.11.0->chromadb!=0.5.10,!=0.5.11,!=0.5.12,!=0.5.4,!=0.5.5,!=0.5.7,!=0.5.9,<0.7.0,>=0.4.0->langchain-chroma) (3.0.0)\n",
            "Requirement already satisfied: pygments<3.0.0,>=2.13.0 in /usr/local/lib/python3.11/dist-packages (from rich>=10.11.0->chromadb!=0.5.10,!=0.5.11,!=0.5.12,!=0.5.4,!=0.5.5,!=0.5.7,!=0.5.9,<0.7.0,>=0.4.0->langchain-chroma) (2.18.0)\n",
            "Requirement already satisfied: huggingface-hub<1.0,>=0.16.4 in /usr/local/lib/python3.11/dist-packages (from tokenizers>=0.13.2->chromadb!=0.5.10,!=0.5.11,!=0.5.12,!=0.5.4,!=0.5.5,!=0.5.7,!=0.5.9,<0.7.0,>=0.4.0->langchain-chroma) (0.30.2)\n",
            "Requirement already satisfied: click>=8.0.0 in /usr/local/lib/python3.11/dist-packages (from typer>=0.9.0->chromadb!=0.5.10,!=0.5.11,!=0.5.12,!=0.5.4,!=0.5.5,!=0.5.7,!=0.5.9,<0.7.0,>=0.4.0->langchain-chroma) (8.1.8)\n",
            "Requirement already satisfied: shellingham>=1.3.0 in /usr/local/lib/python3.11/dist-packages (from typer>=0.9.0->chromadb!=0.5.10,!=0.5.11,!=0.5.12,!=0.5.4,!=0.5.5,!=0.5.7,!=0.5.9,<0.7.0,>=0.4.0->langchain-chroma) (1.5.4)\n",
            "Collecting mypy-extensions>=0.3.0 (from typing-inspect<1,>=0.4.0->dataclasses-json<0.7,>=0.5.7->langchain-community)\n",
            "  Downloading mypy_extensions-1.1.0-py3-none-any.whl.metadata (1.1 kB)\n",
            "Collecting httptools>=0.6.3 (from uvicorn[standard]>=0.18.3->chromadb!=0.5.10,!=0.5.11,!=0.5.12,!=0.5.4,!=0.5.5,!=0.5.7,!=0.5.9,<0.7.0,>=0.4.0->langchain-chroma)\n",
            "  Downloading httptools-0.6.4-cp311-cp311-manylinux_2_5_x86_64.manylinux1_x86_64.manylinux_2_17_x86_64.manylinux2014_x86_64.whl.metadata (3.6 kB)\n",
            "Collecting uvloop!=0.15.0,!=0.15.1,>=0.14.0 (from uvicorn[standard]>=0.18.3->chromadb!=0.5.10,!=0.5.11,!=0.5.12,!=0.5.4,!=0.5.5,!=0.5.7,!=0.5.9,<0.7.0,>=0.4.0->langchain-chroma)\n",
            "  Downloading uvloop-0.21.0-cp311-cp311-manylinux_2_17_x86_64.manylinux2014_x86_64.whl.metadata (4.9 kB)\n",
            "Collecting watchfiles>=0.13 (from uvicorn[standard]>=0.18.3->chromadb!=0.5.10,!=0.5.11,!=0.5.12,!=0.5.4,!=0.5.5,!=0.5.7,!=0.5.9,<0.7.0,>=0.4.0->langchain-chroma)\n",
            "  Downloading watchfiles-1.0.5-cp311-cp311-manylinux_2_17_x86_64.manylinux2014_x86_64.whl.metadata (4.9 kB)\n",
            "Requirement already satisfied: websockets>=10.4 in /usr/local/lib/python3.11/dist-packages (from uvicorn[standard]>=0.18.3->chromadb!=0.5.10,!=0.5.11,!=0.5.12,!=0.5.4,!=0.5.5,!=0.5.7,!=0.5.9,<0.7.0,>=0.4.0->langchain-chroma) (15.0.1)\n",
            "Requirement already satisfied: cachetools<6.0,>=2.0.0 in /usr/local/lib/python3.11/dist-packages (from google-auth>=1.0.1->kubernetes>=28.1.0->chromadb!=0.5.10,!=0.5.11,!=0.5.12,!=0.5.4,!=0.5.5,!=0.5.7,!=0.5.9,<0.7.0,>=0.4.0->langchain-chroma) (5.5.2)\n",
            "Requirement already satisfied: pyasn1-modules>=0.2.1 in /usr/local/lib/python3.11/dist-packages (from google-auth>=1.0.1->kubernetes>=28.1.0->chromadb!=0.5.10,!=0.5.11,!=0.5.12,!=0.5.4,!=0.5.5,!=0.5.7,!=0.5.9,<0.7.0,>=0.4.0->langchain-chroma) (0.4.2)\n",
            "Requirement already satisfied: rsa<5,>=3.1.4 in /usr/local/lib/python3.11/dist-packages (from google-auth>=1.0.1->kubernetes>=28.1.0->chromadb!=0.5.10,!=0.5.11,!=0.5.12,!=0.5.4,!=0.5.5,!=0.5.7,!=0.5.9,<0.7.0,>=0.4.0->langchain-chroma) (4.9.1)\n",
            "Requirement already satisfied: filelock in /usr/local/lib/python3.11/dist-packages (from huggingface-hub<1.0,>=0.16.4->tokenizers>=0.13.2->chromadb!=0.5.10,!=0.5.11,!=0.5.12,!=0.5.4,!=0.5.5,!=0.5.7,!=0.5.9,<0.7.0,>=0.4.0->langchain-chroma) (3.18.0)\n",
            "Requirement already satisfied: fsspec>=2023.5.0 in /usr/local/lib/python3.11/dist-packages (from huggingface-hub<1.0,>=0.16.4->tokenizers>=0.13.2->chromadb!=0.5.10,!=0.5.11,!=0.5.12,!=0.5.4,!=0.5.5,!=0.5.7,!=0.5.9,<0.7.0,>=0.4.0->langchain-chroma) (2025.3.2)\n",
            "Requirement already satisfied: zipp>=3.20 in /usr/local/lib/python3.11/dist-packages (from importlib-metadata<8.7.0,>=6.0->opentelemetry-api>=1.2.0->chromadb!=0.5.10,!=0.5.11,!=0.5.12,!=0.5.4,!=0.5.5,!=0.5.7,!=0.5.9,<0.7.0,>=0.4.0->langchain-chroma) (3.21.0)\n",
            "Requirement already satisfied: mdurl~=0.1 in /usr/local/lib/python3.11/dist-packages (from markdown-it-py>=2.2.0->rich>=10.11.0->chromadb!=0.5.10,!=0.5.11,!=0.5.12,!=0.5.4,!=0.5.5,!=0.5.7,!=0.5.9,<0.7.0,>=0.4.0->langchain-chroma) (0.1.2)\n",
            "Collecting humanfriendly>=9.1 (from coloredlogs->onnxruntime>=1.14.1->chromadb!=0.5.10,!=0.5.11,!=0.5.12,!=0.5.4,!=0.5.5,!=0.5.7,!=0.5.9,<0.7.0,>=0.4.0->langchain-chroma)\n",
            "  Downloading humanfriendly-10.0-py2.py3-none-any.whl.metadata (9.2 kB)\n",
            "Requirement already satisfied: mpmath<1.4,>=1.1.0 in /usr/local/lib/python3.11/dist-packages (from sympy->onnxruntime>=1.14.1->chromadb!=0.5.10,!=0.5.11,!=0.5.12,!=0.5.4,!=0.5.5,!=0.5.7,!=0.5.9,<0.7.0,>=0.4.0->langchain-chroma) (1.3.0)\n",
            "Requirement already satisfied: pyasn1<0.7.0,>=0.6.1 in /usr/local/lib/python3.11/dist-packages (from pyasn1-modules>=0.2.1->google-auth>=1.0.1->kubernetes>=28.1.0->chromadb!=0.5.10,!=0.5.11,!=0.5.12,!=0.5.4,!=0.5.5,!=0.5.7,!=0.5.9,<0.7.0,>=0.4.0->langchain-chroma) (0.6.1)\n",
            "Downloading langchain_community-0.3.22-py3-none-any.whl (2.5 MB)\n",
            "\u001b[2K   \u001b[90m━━━━━━━━━━━━━━━━━━━━━━━━━━━━━━━━━━━━━━━━\u001b[0m \u001b[32m2.5/2.5 MB\u001b[0m \u001b[31m38.5 MB/s\u001b[0m eta \u001b[36m0:00:00\u001b[0m\n",
            "\u001b[?25hDownloading langchain_chroma-0.2.3-py3-none-any.whl (11 kB)\n",
            "Downloading langchain_openai-0.3.14-py3-none-any.whl (62 kB)\n",
            "\u001b[2K   \u001b[90m━━━━━━━━━━━━━━━━━━━━━━━━━━━━━━━━━━━━━━━━\u001b[0m \u001b[32m62.4/62.4 kB\u001b[0m \u001b[31m4.6 MB/s\u001b[0m eta \u001b[36m0:00:00\u001b[0m\n",
            "\u001b[?25hDownloading bs4-0.0.2-py2.py3-none-any.whl (1.2 kB)\n",
            "Downloading chromadb-0.6.3-py3-none-any.whl (611 kB)\n",
            "\u001b[2K   \u001b[90m━━━━━━━━━━━━━━━━━━━━━━━━━━━━━━━━━━━━━━━━\u001b[0m \u001b[32m611.1/611.1 kB\u001b[0m \u001b[31m39.5 MB/s\u001b[0m eta \u001b[36m0:00:00\u001b[0m\n",
            "\u001b[?25hDownloading chroma_hnswlib-0.7.6-cp311-cp311-manylinux_2_17_x86_64.manylinux2014_x86_64.whl (2.4 MB)\n",
            "\u001b[2K   \u001b[90m━━━━━━━━━━━━━━━━━━━━━━━━━━━━━━━━━━━━━━━━\u001b[0m \u001b[32m2.4/2.4 MB\u001b[0m \u001b[31m73.9 MB/s\u001b[0m eta \u001b[36m0:00:00\u001b[0m\n",
            "\u001b[?25hDownloading dataclasses_json-0.6.7-py3-none-any.whl (28 kB)\n",
            "Downloading httpx_sse-0.4.0-py3-none-any.whl (7.8 kB)\n",
            "Downloading pydantic_settings-2.9.1-py3-none-any.whl (44 kB)\n",
            "\u001b[2K   \u001b[90m━━━━━━━━━━━━━━━━━━━━━━━━━━━━━━━━━━━━━━━━\u001b[0m \u001b[32m44.4/44.4 kB\u001b[0m \u001b[31m3.6 MB/s\u001b[0m eta \u001b[36m0:00:00\u001b[0m\n",
            "\u001b[?25hDownloading tiktoken-0.9.0-cp311-cp311-manylinux_2_17_x86_64.manylinux2014_x86_64.whl (1.2 MB)\n",
            "\u001b[2K   \u001b[90m━━━━━━━━━━━━━━━━━━━━━━━━━━━━━━━━━━━━━━━━\u001b[0m \u001b[32m1.2/1.2 MB\u001b[0m \u001b[31m62.5 MB/s\u001b[0m eta \u001b[36m0:00:00\u001b[0m\n",
            "\u001b[?25hDownloading bcrypt-4.3.0-cp39-abi3-manylinux_2_34_x86_64.whl (284 kB)\n",
            "\u001b[2K   \u001b[90m━━━━━━━━━━━━━━━━━━━━━━━━━━━━━━━━━━━━━━━━\u001b[0m \u001b[32m284.2/284.2 kB\u001b[0m \u001b[31m21.3 MB/s\u001b[0m eta \u001b[36m0:00:00\u001b[0m\n",
            "\u001b[?25hDownloading build-1.2.2.post1-py3-none-any.whl (22 kB)\n",
            "Downloading fastapi-0.115.12-py3-none-any.whl (95 kB)\n",
            "\u001b[2K   \u001b[90m━━━━━━━━━━━━━━━━━━━━━━━━━━━━━━━━━━━━━━━━\u001b[0m \u001b[32m95.2/95.2 kB\u001b[0m \u001b[31m9.0 MB/s\u001b[0m eta \u001b[36m0:00:00\u001b[0m\n",
            "\u001b[?25hDownloading kubernetes-32.0.1-py2.py3-none-any.whl (2.0 MB)\n",
            "\u001b[2K   \u001b[90m━━━━━━━━━━━━━━━━━━━━━━━━━━━━━━━━━━━━━━━━\u001b[0m \u001b[32m2.0/2.0 MB\u001b[0m \u001b[31m56.5 MB/s\u001b[0m eta \u001b[36m0:00:00\u001b[0m\n",
            "\u001b[?25hDownloading marshmallow-3.26.1-py3-none-any.whl (50 kB)\n",
            "\u001b[2K   \u001b[90m━━━━━━━━━━━━━━━━━━━━━━━━━━━━━━━━━━━━━━━━\u001b[0m \u001b[32m50.9/50.9 kB\u001b[0m \u001b[31m3.9 MB/s\u001b[0m eta \u001b[36m0:00:00\u001b[0m\n",
            "\u001b[?25hDownloading mmh3-5.1.0-cp311-cp311-manylinux_2_5_x86_64.manylinux1_x86_64.manylinux_2_17_x86_64.manylinux2014_x86_64.whl (101 kB)\n",
            "\u001b[2K   \u001b[90m━━━━━━━━━━━━━━━━━━━━━━━━━━━━━━━━━━━━━━━━\u001b[0m \u001b[32m101.6/101.6 kB\u001b[0m \u001b[31m8.6 MB/s\u001b[0m eta \u001b[36m0:00:00\u001b[0m\n",
            "\u001b[?25hDownloading onnxruntime-1.21.1-cp311-cp311-manylinux_2_27_x86_64.manylinux_2_28_x86_64.whl (16.0 MB)\n",
            "\u001b[2K   \u001b[90m━━━━━━━━━━━━━━━━━━━━━━━━━━━━━━━━━━━━━━━━\u001b[0m \u001b[32m16.0/16.0 MB\u001b[0m \u001b[31m84.4 MB/s\u001b[0m eta \u001b[36m0:00:00\u001b[0m\n",
            "\u001b[?25hDownloading opentelemetry_exporter_otlp_proto_grpc-1.32.1-py3-none-any.whl (18 kB)\n",
            "Downloading opentelemetry_exporter_otlp_proto_common-1.32.1-py3-none-any.whl (18 kB)\n",
            "Downloading opentelemetry_proto-1.32.1-py3-none-any.whl (55 kB)\n",
            "\u001b[2K   \u001b[90m━━━━━━━━━━━━━━━━━━━━━━━━━━━━━━━━━━━━━━━━\u001b[0m \u001b[32m55.9/55.9 kB\u001b[0m \u001b[31m4.7 MB/s\u001b[0m eta \u001b[36m0:00:00\u001b[0m\n",
            "\u001b[?25hDownloading opentelemetry_instrumentation_fastapi-0.53b1-py3-none-any.whl (12 kB)\n",
            "Downloading opentelemetry_instrumentation-0.53b1-py3-none-any.whl (30 kB)\n",
            "Downloading opentelemetry_instrumentation_asgi-0.53b1-py3-none-any.whl (16 kB)\n",
            "Downloading opentelemetry_util_http-0.53b1-py3-none-any.whl (7.3 kB)\n",
            "Downloading overrides-7.7.0-py3-none-any.whl (17 kB)\n",
            "Downloading posthog-4.0.0-py2.py3-none-any.whl (92 kB)\n",
            "\u001b[2K   \u001b[90m━━━━━━━━━━━━━━━━━━━━━━━━━━━━━━━━━━━━━━━━\u001b[0m \u001b[32m92.0/92.0 kB\u001b[0m \u001b[31m8.1 MB/s\u001b[0m eta \u001b[36m0:00:00\u001b[0m\n",
            "\u001b[?25hDownloading python_dotenv-1.1.0-py3-none-any.whl (20 kB)\n",
            "Downloading typing_inspect-0.9.0-py3-none-any.whl (8.8 kB)\n",
            "Downloading uvicorn-0.34.2-py3-none-any.whl (62 kB)\n",
            "\u001b[2K   \u001b[90m━━━━━━━━━━━━━━━━━━━━━━━━━━━━━━━━━━━━━━━━\u001b[0m \u001b[32m62.5/62.5 kB\u001b[0m \u001b[31m5.7 MB/s\u001b[0m eta \u001b[36m0:00:00\u001b[0m\n",
            "\u001b[?25hDownloading backoff-2.2.1-py3-none-any.whl (15 kB)\n",
            "Downloading durationpy-0.9-py3-none-any.whl (3.5 kB)\n",
            "Downloading httptools-0.6.4-cp311-cp311-manylinux_2_5_x86_64.manylinux1_x86_64.manylinux_2_17_x86_64.manylinux2014_x86_64.whl (459 kB)\n",
            "\u001b[2K   \u001b[90m━━━━━━━━━━━━━━━━━━━━━━━━━━━━━━━━━━━━━━━━\u001b[0m \u001b[32m459.8/459.8 kB\u001b[0m \u001b[31m31.9 MB/s\u001b[0m eta \u001b[36m0:00:00\u001b[0m\n",
            "\u001b[?25hDownloading monotonic-1.6-py2.py3-none-any.whl (8.2 kB)\n",
            "Downloading mypy_extensions-1.1.0-py3-none-any.whl (5.0 kB)\n",
            "Downloading starlette-0.46.2-py3-none-any.whl (72 kB)\n",
            "\u001b[2K   \u001b[90m━━━━━━━━━━━━━━━━━━━━━━━━━━━━━━━━━━━━━━━━\u001b[0m \u001b[32m72.0/72.0 kB\u001b[0m \u001b[31m6.6 MB/s\u001b[0m eta \u001b[36m0:00:00\u001b[0m\n",
            "\u001b[?25hDownloading uvloop-0.21.0-cp311-cp311-manylinux_2_17_x86_64.manylinux2014_x86_64.whl (4.0 MB)\n",
            "\u001b[2K   \u001b[90m━━━━━━━━━━━━━━━━━━━━━━━━━━━━━━━━━━━━━━━━\u001b[0m \u001b[32m4.0/4.0 MB\u001b[0m \u001b[31m103.9 MB/s\u001b[0m eta \u001b[36m0:00:00\u001b[0m\n",
            "\u001b[?25hDownloading watchfiles-1.0.5-cp311-cp311-manylinux_2_17_x86_64.manylinux2014_x86_64.whl (454 kB)\n",
            "\u001b[2K   \u001b[90m━━━━━━━━━━━━━━━━━━━━━━━━━━━━━━━━━━━━━━━━\u001b[0m \u001b[32m454.8/454.8 kB\u001b[0m \u001b[31m33.8 MB/s\u001b[0m eta \u001b[36m0:00:00\u001b[0m\n",
            "\u001b[?25hDownloading coloredlogs-15.0.1-py2.py3-none-any.whl (46 kB)\n",
            "\u001b[2K   \u001b[90m━━━━━━━━━━━━━━━━━━━━━━━━━━━━━━━━━━━━━━━━\u001b[0m \u001b[32m46.0/46.0 kB\u001b[0m \u001b[31m3.7 MB/s\u001b[0m eta \u001b[36m0:00:00\u001b[0m\n",
            "\u001b[?25hDownloading pyproject_hooks-1.2.0-py3-none-any.whl (10 kB)\n",
            "Downloading asgiref-3.8.1-py3-none-any.whl (23 kB)\n",
            "Downloading humanfriendly-10.0-py2.py3-none-any.whl (86 kB)\n",
            "\u001b[2K   \u001b[90m━━━━━━━━━━━━━━━━━━━━━━━━━━━━━━━━━━━━━━━━\u001b[0m \u001b[32m86.8/86.8 kB\u001b[0m \u001b[31m7.7 MB/s\u001b[0m eta \u001b[36m0:00:00\u001b[0m\n",
            "\u001b[?25hBuilding wheels for collected packages: pypika\n",
            "  Building wheel for pypika (pyproject.toml) ... \u001b[?25l\u001b[?25hdone\n",
            "  Created wheel for pypika: filename=pypika-0.48.9-py2.py3-none-any.whl size=53801 sha256=1114cb1bddbbc2a6f1acaeb00a60ed52549f135ac4685686b51489ec1a64ea39\n",
            "  Stored in directory: /root/.cache/pip/wheels/a3/01/bd/4c40ceb9d5354160cb186dcc153360f4ab7eb23e2b24daf96d\n",
            "Successfully built pypika\n",
            "Installing collected packages: pypika, monotonic, durationpy, uvloop, uvicorn, python-dotenv, pyproject_hooks, overrides, opentelemetry-util-http, opentelemetry-proto, mypy-extensions, mmh3, marshmallow, humanfriendly, httpx-sse, httptools, chroma-hnswlib, bcrypt, backoff, asgiref, watchfiles, typing-inspect, tiktoken, starlette, posthog, opentelemetry-exporter-otlp-proto-common, coloredlogs, build, bs4, pydantic-settings, onnxruntime, kubernetes, fastapi, dataclasses-json, opentelemetry-instrumentation, opentelemetry-instrumentation-asgi, opentelemetry-exporter-otlp-proto-grpc, langchain-openai, opentelemetry-instrumentation-fastapi, langchain-community, chromadb, langchain-chroma\n",
            "Successfully installed asgiref-3.8.1 backoff-2.2.1 bcrypt-4.3.0 bs4-0.0.2 build-1.2.2.post1 chroma-hnswlib-0.7.6 chromadb-0.6.3 coloredlogs-15.0.1 dataclasses-json-0.6.7 durationpy-0.9 fastapi-0.115.12 httptools-0.6.4 httpx-sse-0.4.0 humanfriendly-10.0 kubernetes-32.0.1 langchain-chroma-0.2.3 langchain-community-0.3.22 langchain-openai-0.3.14 marshmallow-3.26.1 mmh3-5.1.0 monotonic-1.6 mypy-extensions-1.1.0 onnxruntime-1.21.1 opentelemetry-exporter-otlp-proto-common-1.32.1 opentelemetry-exporter-otlp-proto-grpc-1.32.1 opentelemetry-instrumentation-0.53b1 opentelemetry-instrumentation-asgi-0.53b1 opentelemetry-instrumentation-fastapi-0.53b1 opentelemetry-proto-1.32.1 opentelemetry-util-http-0.53b1 overrides-7.7.0 posthog-4.0.0 pydantic-settings-2.9.1 pypika-0.48.9 pyproject_hooks-1.2.0 python-dotenv-1.1.0 starlette-0.46.2 tiktoken-0.9.0 typing-inspect-0.9.0 uvicorn-0.34.2 uvloop-0.21.0 watchfiles-1.0.5\n"
          ]
        }
      ],
      "source": [
        "!pip install langchain-community langchain-chroma langchain-openai bs4"
      ]
    },
    {
      "cell_type": "code",
      "source": [
        "import bs4\n",
        "from langchain import hub\n",
        "from langchain_chroma import Chroma\n",
        "from langchain_openai import ChatOpenAI\n",
        "from langchain_openai import OpenAIEmbeddings\n",
        "from langchain_community.document_loaders import WebBaseLoader\n",
        "from langchain_text_splitters import RecursiveCharacterTextSplitter\n",
        "from google.colab import userdata\n",
        "\n",
        "openai_api_key = userdata.get('OPENAI_API_KEY')"
      ],
      "metadata": {
        "colab": {
          "base_uri": "https://localhost:8080/"
        },
        "id": "lrlcWNMyI0HQ",
        "outputId": "40a53ec7-b236-490f-f114-16874b877c83"
      },
      "execution_count": 2,
      "outputs": [
        {
          "output_type": "stream",
          "name": "stderr",
          "text": [
            "WARNING:langchain_community.utils.user_agent:USER_AGENT environment variable not set, consider setting it to identify your requests.\n"
          ]
        }
      ]
    },
    {
      "cell_type": "code",
      "source": [
        "llm = ChatOpenAI(model=\"gpt-4o-mini\", api_key=openai_api_key)"
      ],
      "metadata": {
        "id": "gdjtGqsgI2Ub"
      },
      "execution_count": 3,
      "outputs": []
    },
    {
      "cell_type": "code",
      "source": [
        "loader = WebBaseLoader(\n",
        "    web_paths=(\"https://spartacodingclub.kr/blog/all-in-challenge_winner\",),\n",
        "    bs_kwargs=dict(\n",
        "        parse_only=bs4.SoupStrainer(\n",
        "            class_=(\"editedContent\")\n",
        "        )\n",
        "    ),\n",
        ")\n",
        "docs = loader.load()\n",
        "\n",
        "docs"
      ],
      "metadata": {
        "id": "qhuzvEYGI4Yq",
        "colab": {
          "base_uri": "https://localhost:8080/"
        },
        "outputId": "8d60d726-3b19-4555-cc82-dadd0cfc1797"
      },
      "execution_count": 5,
      "outputs": [
        {
          "output_type": "execute_result",
          "data": {
            "text/plain": [
              "[Document(metadata={'source': 'https://spartacodingclub.kr/blog/all-in-challenge_winner'}, page_content='ì½”ë”©ì�€ ë�” ì�´ìƒ� ê°œë°œì��ë§Œì�˜ ì˜�ì—\\xadì�´ ì•„ë‹™ë‹ˆë‹¤. ëˆ„êµ¬ë‚˜ ì•„ì�´ë””ì–´ë§Œ ì�ˆë‹¤ë©´ ì°½ì�˜ì\\xa0�ì�¸ ì„œë¹„ìŠ¤ë¥¼ ë§Œë“¤ì–´ ì„¸ìƒ�ì�„ ë°”ê¿€ ìˆ˜ ì�ˆìŠµë‹ˆë‹¤. ìŠ¤íŒŒë¥´íƒ€ì½”ë”©í�´ëŸ½ì—�ì„œëŠ” ì�´ëŸ¬í•œ ê°€ëŠ¥ì„±ì�„ ë¯¿ê³\\xa0, ëˆ„êµ¬ë‚˜ ì½”ë”©ì�„ í†µí•´ ì��ì‹\\xa0ì�˜ ì•„ì�´ë””ì–´ë¥¼ ì‹¤í˜„í•˜ê³\\xa0 ì‹¤ì\\xa0œ ë¬¸ì\\xa0œë¥¼ í•´ê²°í•˜ëŠ” ê²½í—˜ì�„ ìŒ“ì�„ ìˆ˜ ì�ˆë�„ë¡� ë‹¤ì–‘í•œ í”„ë¡œê·¸ë�¨ì�„ ë§ˆë\\xa0¨í•˜ê³\\xa0 ì�ˆìŠµë‹ˆë‹¤.<All-in> ì½”ë”© ê³µëª¨ì\\xa0„ì�€ ëŒ€í•™ìƒ�ë“¤ì�´ ìº\\xa0í�¼ìŠ¤ì—�ì„œ ê²ªì�€ ë¶ˆí�¸í•¨ê³¼ ë¬¸ì\\xa0œë¥¼ ì��ì‹\\xa0ë§Œì�˜ ì•„ì�´ë””ì–´ë¡œ í•´ê²°í•´ë³´ëŠ” ëŒ€íšŒì˜€ëŠ”ë�°ìš”. ì�´ë²ˆ ê³µëª¨ì\\xa0„ì—�ì„œ ë‹¤ì–‘í•œ í˜�ì‹\\xa0ì\\xa0�ì�¸ ì•„ì�´ë””ì–´ì™€ ì—´ì\\xa0•ìœ¼ë¡œ ê°€ë“�í•œ ìˆ˜ë§�ì�€ í”„ë¡œì\\xa0�íŠ¸ê°€ íƒ„ìƒ�í–ˆìŠµë‹ˆë‹¤. ê·¸ì¤‘ ë›°ì–´ë‚œ ì„±ê³¼ë¥¼ ë‚¸ ìˆ˜ìƒ�ì�‘ 6ê°œë¥¼ ì†Œê°œí•©ë‹ˆë‹¤.ğŸ�†Â\\xa0ëŒ€ìƒ�[Lexi Note] ì–¸ì–´ê³µë¶€ í•„ê¸° ì›¹ ì„œë¹„ìŠ¤ì„œë¹„ìŠ¤ ì\\xa0œì�‘ì��: ë‹¤ë‚˜ì™€(ê¹€ë‹¤ì•\\xa0, ë°•ë‚˜ê²½)ğŸ’¡WëŠ” ì–´ë¬¸í•™ì�„ ì\\xa0„ê³µí•˜ëŠ” ëŒ€í•™ìƒ�ì�…ë‹ˆë‹¤. ë§¤ì�¼ ìƒˆë¡œìš´ ë‹¨ì–´ì™€ ë¬¸ì�¥ êµ¬ì¡°ë¥¼ ê³µë¶€í•˜ê³\\xa0 ì�ˆì§€ë§Œ, íš¨ìœ¨ì\\xa0�ìœ¼ë¡œ í•™ìŠµí•˜ëŠ” ê²ƒì�´ ì‰½ì§€ ì•Šì•˜ìŠµë‹ˆë‹¤. ë‹¨ì–´ì�˜ ì�˜ë¯¸ë¥¼ ì°¾ê¸° ìœ„í•´ ì‚¬ì\\xa0„ì�„ ë’¤ì\\xa0�ì�´ê³\\xa0, ê¸´ ë¬¸ì�¥ì�„ ì�´í•´í•˜ë\\xa0¤ê³\\xa0 ë²ˆì—\\xadê¸°ë¥¼ ì‚¬ìš©í•˜ë‹¤ ë³´ë©´, í•„ê¸° ë…¸íŠ¸ëŠ” ì–´ëŠ�ìƒˆ ë’·ì\\xa0„ìœ¼ë¡œ ë°€ë\\xa0¤ë‚¬ê±°ë“\\xa0ìš”. ì‚¬ì\\xa0„, ë²ˆì—\\xadê¸°, ì›�ì„œ, í•„ê¸°ë…¸íŠ¸ë¥¼ ì™”ë‹¤ ê°”ë‹¤ í•˜ë‹¤ ë³´ë©´ ì‹œê°„ì�´ ë‹¤ ì§€ë‚˜ê°€ ë²„ë¦¬ê³¤ í–ˆì£\\xa0.Wì™€ ê°™ì�´ ì–´ë¬¸ ì\\xa0„ê³µìƒ�ì�€ ë¬¸ë²•, ì–´íœ˜, ë¬¸ì�¥ êµ¬ì¡° ë“± ë‹¤ì–‘í•œ ì��ë£Œë¥¼ í•™ìŠµí•´ì•¼ í•©ë‹ˆë‹¤. ì—¬ëŸ¬ ì��ë£Œë¥¼ ë²ˆê°ˆì•„ í•™ìŠµí•˜ë‹¤ë³´ë‹ˆ â€˜ì‚¬ì\\xa0„-ë²ˆì—\\xadê¸°-ì›�ì„œ-í•„ê¸°ë…¸íŠ¸â€™ ì™•ë³µìœ¼ë¡œ í•™ìŠµ íš¨ìœ¨ì�´ ë‚˜ì§€ ì•Šì•„ ê³\\xa0ë¯¼ì�¸ ê²½ìš°ë�„ ë§�ìœ¼ì‹¤ ê±°ì˜ˆìš”. <Lexi Note>ëŠ” ë‹¨ì–´ë¥¼ ë“œë�˜ê·¸í•˜ë©´ ë„¤ì�´ë²„ ì‚¬ì\\xa0„ìœ¼ë¡œ ë°”ë¡œ ì—°ë�™ ë�¼ ë‹¨ì–´ì�˜ ì�˜ë¯¸ë¥¼ ì°¾ìœ¼ë©° ë�™ì‹œì—� í•„ê¸° í•\\xa0 ìˆ˜ ì�ˆì–´ìš”. ì�´ì™¸ì—�ë�„ ë²ˆì—\\xad ë²„íŠ¼ì�„ ëˆ„ë¥´ë©´ íŒŒíŒŒê³\\xa0 ë²ˆì—\\xadê¸°ê°€ ì—°ë�™ë�¼ ê¸´ ë¬¸ì�¥ë�„ ì‰½ê²Œ ì�´í•´í•\\xa0 ìˆ˜ ì�ˆì–´ìš”. ì–¸ì–´ í•™ìŠµì—� í•„ìš”í•œ í•\\xa0ì�¼ ëª©ë¡�ê³¼ ìŠ¤ì¼€ì¤„ í…œí”Œë¦¿ì�„ ì\\xa0œê³µí•˜ì—¬ íš¨ìœ¨ì\\xa0�ìœ¼ë¡œ ê³µë¶€í•\\xa0 ìˆ˜ ì�ˆìŠµë‹ˆë‹¤. í•„ê¸°, ì‚¬ì\\xa0„, ë²ˆì—\\xadì�„ í•œë²ˆì—� ì‰½ê³\\xa0 í�¸í•˜ê²Œ ì�´ìš©í•\\xa0 ìˆ˜ ì�ˆì£\\xa0. ë�” ì�´ìƒ� ì‹œê°„ ë‚\\xadë¹„ ì—†ì�´ íš¨ìœ¨ì\\xa0�ìœ¼ë¡œ ì–´ë¬¸í•™ì�„ ê³µë¶€í•˜ë©° í•™ìŠµ ì†�ë�„ë�„ ëˆˆì—� ë�„ê²Œ ë¹¨ë�¼ì§ˆ ìˆ˜ ì�ˆì–´ìš”. ì–¸ì–´ ê³µë¶€ì�˜ ë³µì�¡í•¨ì�„ ë‹¨ìˆœí•˜ê²Œ ë§Œë“¤ì–´ì£¼ëŠ” Lexi Noteê°€ ìš”ê¸´í•œ í•™ìŠµ ë�„ìš°ë¯¸ê°€ ë�˜ì—ˆê¸° ë•Œë¬¸ì�…ë‹ˆë‹¤.ì‚¬ìš©í•œ ê¸°ìˆ\\xa0 ìŠ¤íƒ� -FE(í”„ë¡\\xa0íŠ¸ì—”ë“œ): React, Tesseract.js, React-Quill, HTML, CSS, JavaScript-BE(ë°±ì—”ë“œ): Java, Spring Boot, MariaDBğŸ�–ï¸�Â\\xa0ìš°ìˆ˜ìƒ�[ìš°ë¦¬ì§‘ í�ˆì–´ë¡œì¦ˆ] ë²Œë\\xa0ˆ í‡´ì¹˜ ì˜�ì›… ë§¤ì¹\\xad ì„œë¹„ìŠ¤ì„œë¹„ìŠ¤ ì\\xa0œì�‘ì��: ì�¸íŠ¸(ë°°ì\\xa0•ì—°, í•œì§€ìˆ˜)ğŸ’¡CëŠ” ì�´ë²ˆ í•™ê¸° ì²˜ì�Œìœ¼ë¡œ ì��ì·¨ë¥¼ ì‹œì�‘í–ˆìŠµë‹ˆë‹¤. ì›�ë�˜ë¶€í„° ì�‘ì�€ ë²Œë\\xa0ˆì—� ë¯¼ê°�í–ˆë�˜ C. ì��ì·¨ë°©ì—�ì„œ ì��ì£¼ ë‚˜íƒ€ë‚˜ëŠ” ë²Œë\\xa0ˆë“¤ ë•Œë¬¸ì—� ë°¤ì�\\xa0ì�„ ì„¤ì¹˜ê¸¸ ë°˜ë³µí–ˆìŠµë‹ˆë‹¤. ë°¤ë§ˆë‹¤ ë²Œë\\xa0ˆë¥¼ ì�¡ìœ¼ë\\xa0¤ê³\\xa0 ì•\\xa0ì“°ë�˜ CëŠ” ì»¤ë®¤ë‹ˆí‹°ë¥¼ í†µí•´ ë‹¤ë¥¸ í•™ìƒ�ë“¤ë�„ ê°™ì�€ ë¬¸ì\\xa0œë¥¼ ê²ªê³\\xa0 ì�ˆë‹¤ëŠ” ê²ƒì�„ ì•Œê²Œ ë�˜ì—ˆìŠµë‹ˆë‹¤. í•˜ì§€ë§Œ ì»¤ë®¤ë‹ˆí‹°ì—�ì„œ ë²Œë\\xa0ˆ í‡´ì¹˜ í�ˆì–´ë¡œë¥¼ ì°¾ê¸° ìœ„í•´ì„œëŠ” ë‚´ ê°œì�¸ ì\\xa0•ë³´ë¥¼ ë…¸ì¶œí•´ì•¼ í•œë‹¤ëŠ” ì\\xa0�ì�´ ì°�ì°�í–ˆì£\\xa0.ì�´ ë¬¸ì\\xa0œë¥¼ í•´ê²°í•\\xa0 ìˆ˜ ì�ˆëŠ” ë°©ë²•ì�´ ë°”ë¡œ <ìš°ë¦¬ì§‘ í�ˆì–´ë¡œì¦ˆ> ì„œë¹„ìŠ¤ì�…ë‹ˆë‹¤. ëŒ€í•™ìƒ� ì��ì·¨ìƒ�ë“¤ì�´ ì��ì·¨ë°©ì—�ì„œ ê²ªëŠ” ë²Œë\\xa0ˆ ë¬¸ì\\xa0œë¥¼ í•´ê²°í•˜ê¸° ìœ„í•´ ê°œë°œë�œ ì•±ì�´ì£\\xa0. ë²Œë\\xa0ˆ í‡´ì¹˜ê°€ í•„ìš”í•œ ì‚¬ìš©ì��ê°€ ì•±ì—� ìš”ì²\\xadì�„ ì˜¬ë¦¬ë©´ ë²Œë\\xa0ˆ í‡´ì¹˜ í�ˆì–´ë¡œ í•™ìš°ì™€ ë§¤ì¹\\xadë�©ë‹ˆë‹¤. ì‚¬ìš©ì�� ì‹\\xa0ì›�ì�€ ê°™ì�€ í•™êµ� í•™ìƒ�ìœ¼ë¡œ, ì‹\\xa0ì›�ì�´ ë³´ì�¥ë�œ ì•ˆì\\xa0„í•œ í™˜ê²½ì—�ì„œ ì�´ë¤„ì§€ê³\\xa0 ë²Œë\\xa0ˆë¥¼ í‡´ì¹˜í•´ì£¼ëŠ” í�ˆì–´ë¡œëŠ” ì¶”ê°€ ìˆ˜ì�…ì�„ ì–»ì�„ ìˆ˜ ì�ˆëŠ” ê¸°íšŒë¥¼ ê°€ì§‘ë‹ˆë‹¤. ì‹¤ì‹œê°„ ì•Œë¦¼ ê¸°ëŠ¥ì�„ í†µí•´ ë§¤ì¹\\xadì�´ ì�´ë¤„ì§€ë©´ ì¦‰ì‹œ ì•Œë¦¼ì�„ ë°›ì�„ ìˆ˜ ì�ˆì–´ ë¹\\xa0ë¥´ê²Œ ë¬¸ì\\xa0œë¥¼ í•´ê²°í•\\xa0 ìˆ˜ ì�ˆìŠµë‹ˆë‹¤. ë²Œë\\xa0ˆë¥¼ í‡´ì¹˜í•œ í›„ ì‚¬ìš©ì��ëŠ” ì„œë¡œë¥¼ í�‰ê°€í•\\xa0 ìˆ˜ ì�ˆì–´ìš”. ë�” ë‚˜ì�€ ì„œë¹„ìŠ¤ë¥¼ ì\\xa0œê³µí•˜ê±°ë‚˜ ë°›ì�„ ìˆ˜ ì�ˆìŠµë‹ˆë‹¤.ì‚¬ìš©í•œ ê¸°ìˆ\\xa0 ìŠ¤íƒ� -FE(í”„ë¡\\xa0íŠ¸ì—”ë“œ): React Native, Expo, Axios-BE(ë°±ì—”ë“œ): Spring Boot, Spring Security, MySQL, SSE, FCM, JWT, PostmanğŸ�–ï¸�Â\\xa0ìš°ìˆ˜ìƒ�[ì—�ì½” í�´ë�˜ìŠ¤ë£¸] ìˆ˜ì—… ì‹¤ì‹œê°„ ì†Œí†µ ì„œë¹„ìŠ¤ì„œë¹„ìŠ¤ ì\\xa0œì�‘ì��: This is ìŠ¤íŒŒê²Œí‹°!!!(ë°•ì§€ì„±, ê¹€ì„œì›�, ë°•ë²”ìˆ˜)ğŸ’¡Kêµ�ìˆ˜ëŠ” í•\\xadìƒ� ìˆ˜ì—…ì�´ ë��ë‚œ í›„ ë‚œì�´ë�„ê°€ ì\\xa0�ì\\xa0ˆí–ˆëŠ”ì§€ ê¶�ê¸ˆí–ˆìŠµë‹ˆë‹¤. â€œì§ˆë¬¸ ì�ˆë‚˜ìš”?â€�ë�¼ëŠ” ë§�ì�´ ìˆ˜ì—…ì�˜ ë§ˆë¬´ë¦¬ì˜€ì§€ë§Œ, ëŒ€ë¶€ë¶„ì�˜ í•™ìƒ�ì�€ ë‹µì�´ ì—†ì—ˆì£\\xa0. ê·¸ì\\xa0€ ê³\\xa0ê°œë¥¼ ë�„ë�•ì�´ëŠ” ëª‡ëª‡ í•™ìƒ�ë“¤ë§Œ ë³´ì�¼ ë¿�, ì\\xa0•ë§� ì�´í•´í•œ ê²ƒì�¸ì§€, ì§ˆë¬¸í•\\xa0 ìš©ê¸°ê°€ ì—†ëŠ” ê²ƒì�¸ì§€ ì•Œ ìˆ˜ ì—†ì—ˆìŠµë‹ˆë‹¤. ì�´ë•Œë¬¸ì—� í•™ìƒ�ë“¤ì�´ ìˆ˜ì—… ë‚´ìš©ì�„ ì\\xa0œëŒ€ë¡œ ì�´í•´í•˜ê³\\xa0 ì�ˆëŠ”ì§€ í™•ì�¸í•˜ê¸° ì–´ë\\xa0¤ì›\\xa0ìŠµë‹ˆë‹¤. ì–´ëŠ� ë‚\\xa0 ê°•ì�˜ê°€ ë��ë‚˜ê³\\xa0 ëª‡ëª‡ í•™ìƒ�ë“¤ì�´ ëª°ë\\xa0¤ì™€ ì–´ë\\xa0µë‹¤ê³\\xa0, ë‹¤ì‹œ ì„¤ëª…í•´ ë‹¬ë�¼ê³\\xa0 ìš”ì²\\xadí–ˆìŠµë‹ˆë‹¤. ê·¸ì\\xa0œì•¼ Kêµ�ìˆ˜ëŠ” ì•Œê²Œ ë�˜ì—ˆì–´ìš”. í•™ìƒ�ë“¤ì�´ ì�´í•´í•˜ì§€ ëª»í•˜ê³\\xa0 ì�ˆì—ˆì§€ë§Œ, ì§ˆë¬¸ì�„ í•˜ì§€ ì•Šì•˜ë�˜ ê²ƒì�´ì—ˆìŠµë‹ˆë‹¤.ë‹¤ë¥¸ í•™ìƒ�ë“¤ì�˜ ì‹œì„\\xa0ì�´ ë¶€ë‹´ìŠ¤ëŸ¬ì›Œì„œ, ë‚˜ë§Œ ëª¨ë¥´ëŠ” ê±°ë�¼ê³\\xa0 ìƒ�ê°�í•´ì„œ ì§ˆë¬¸í•˜ì§€ ì•ŠëŠ” í•™ìƒ�ë“¤ì�„ ìœ„í•´ ë§Œë“¤ì–´ì§„ ì„œë¹„ìŠ¤ê°€ ë°”ë¡œ <ì—�ì½” í�´ë�˜ìŠ¤ë£¸>ì�…ë‹ˆë‹¤. êµ�ìˆ˜ì™€ í•™ìƒ� ê°„ì�˜ ì†Œí†µì�„ í˜�ì‹\\xa0ì\\xa0�ìœ¼ë¡œ ë°”ê¾¸ê¸° ìœ„í•´ ë§Œë“¤ì–´ì¡Œì–´ìš”. í•™ìƒ�ë“¤ì�´ êµ³ì�´ ì†�ì�„ ë“¤ê³\\xa0 ì§ˆë¬¸í•˜ì§€ ì•Šì•„ë�„, ì—�ì½” í�´ë�˜ìŠ¤ë£¸ì�„ í†µí•´ ì��ì‹\\xa0ì�˜ ì�˜ê²¬ì�„ í‘œí˜„í•\\xa0 ìˆ˜ ì�ˆìŠµë‹ˆë‹¤. ì�µëª…ìœ¼ë¡œ ìˆ˜ì—… ì¤‘ ì��ì‹\\xa0ì�˜ ì�˜ê²¬ì�´ë‚˜ ì§ˆë¬¸ì�„ ì‰½ê²Œ ì\\xa0œì¶œí•\\xa0 ìˆ˜ ì�ˆì–´ êµ�ìˆ˜ë‹˜ì�€ ì‹¤ì‹œê°„ìœ¼ë¡œ í•™ìƒ�ë“¤ì�˜ ì�´í•´ë�„ë¥¼ íŒŒì•…í•\\xa0 ìˆ˜ ì�ˆìŠµë‹ˆë‹¤. ìˆ˜ì—… ì¤‘ ë˜�ëŠ” í›„ì—� êµ�ìˆ˜ì��ê°€ ìˆ˜ì—…ì—� ëŒ€í•œ í”¼ë“œë°±ì�„ ë°›ì�„ ìˆ˜ ì�ˆëŠ” í�‰ê°€ ê¸°ëŠ¥ê³¼ í•™ìƒ�ì�˜ ì�´í•´ë�„ë¥¼ í…ŒìŠ¤íŠ¸ í•\\xa0 ìˆ˜ ì�ˆëŠ” í€´ì¦ˆ ìƒ�ì„± ê¸°ëŠ¥ì�´ ì�ˆì–´ í•„ìš”í•œ ê²½ìš° ìˆ˜ì—… ì†�ë�„ë¥¼ ì¡°ì\\xa0ˆí•˜ê³\\xa0 ì¶”ê°€ ì„¤ëª…ì�„ í•\\xa0 ìˆ˜ ì�ˆì–´ìš”.ì‚¬ìš©í•œ ê¸°ìˆ\\xa0 ìŠ¤íƒ� -FE(í”„ë¡\\xa0íŠ¸ì—”ë“œ): Flutter, Socket.IO, Expo CLI, Axios, TanStack Query-BE(ë°±ì—”ë“œ): Spring Boot, Spring Security, JWT, MySQL, Spring WebSocket, AWSğŸ�…Â\\xa0ì�…ì„\\xa0[Crewing] ì—°í•©ë�™ì•„ë¦¬ ì\\xa0•ë³´ í”Œë�«í�¼ì„œë¹„ìŠ¤ ì\\xa0œì�‘ì��: ë�™í•™ëŒ€í•™ìš´ë�™(ê¹€ë¯¼ì•„, ì�„ê²½ì§„, ì‹\\xa0ì�€í˜œ, ê³\\xa0ìˆ˜)ğŸ’¡ì‹\\xa0ì�…ìƒ�ì�¸ SëŠ” ëŒ€í•™ ìƒ�í™œì�„ ì•Œì°¨ê²Œ ë³´ë‚´ê³\\xa0 ì‹¶ì–´ì„œ ì—°í•© ë�™ì•„ë¦¬ì—� ê°€ì�…í•˜ë\\xa0¤ê³\\xa0 í–ˆì§€ë§Œ ì–´ë–¤ ë�™ì•„ë¦¬ê°€ ì��ì‹\\xa0ì—�ê²Œ ë§�ì�„ì§€ ê³\\xa0ë¯¼ì�´ ë§�ì•˜ìŠµë‹ˆë‹¤. ì�¸í„°ë„·ì—� ê²€ìƒ‰í•´ë³´ë‹ˆ ì—°í•© ë�™ì•„ë¦¬ í›„ê¸°ëŠ” ëŒ€ë¶€ë¶„ ì—¬ê¸°ì\\xa0€ê¸° í�©ì–´ì\\xa0¸ ì�ˆê³\\xa0, ì‹\\xa0ë¢°í•\\xa0 ë§Œí•œ ì\\xa0•ë³´ë¥¼ ì°¾ê¸° ì–´ë\\xa0¤ì›\\xa0ìŠµë‹ˆë‹¤.<Crewing>ì�€ ëŒ€í•™ìƒ�ë“¤ì�´ ë‹¤ì–‘í•œ ì—°í•© ë�™ì•„ë¦¬ì—� ì‰½ê²Œ ê°€ì�…í•˜ê³\\xa0, ì\\xa0�ì\\xa0ˆí•œ ë�™ì•„ë¦¬ë¥¼ ì°¾ì�„ ìˆ˜ ì�ˆë�„ë¡� ì§€ì›�í•´ì£¼ëŠ” ì•„ì¹´ì�´ë¹™ í”Œë�«í�¼ì�…ë‹ˆë‹¤. íšŒì›�ê°€ì�… ì‹œ ìƒ�ë…„, ì„±ë³„, ê´€ì‹¬ ë¶„ì•¼ë¥¼ ì�…ë\\xa0¥í•˜ì�� ë”± ë§�ëŠ” ë�™ì•„ë¦¬ë¥¼ ì¶”ì²œí•´ì£¼ì£\\xa0. í”Œë�«í�¼ ë‚´ì—�ì„œ ë�™ì•„ë¦¬ì�˜ ë¦¬í�¬ë£¨íŒ… ê³¼ì\\xa0•ì�¸ ì„œë¥˜ ì\\xa0„í˜•, ì�¸í„°ë·° ì�¼ì\\xa0•, ìµœì¢… ê²°ê³¼ ë°œí‘œ ë“±ì�„ í•œ ë²ˆì—� í•´ê²°í•\\xa0 ìˆ˜ ì�ˆì–´ìš”. ì‹¤ì\\xa0œ ë�™ì•„ë¦¬ì—� ê°€ì�…í•œ ì‚¬ë�Œë“¤ì�˜ ì†”ì§�í•œ í›„ê¸°ë¥¼ ì\\xa0œê³µí•´ì£¼ê¸° ë•Œë¬¸ì—� ë³´ë‹¤ ì\\xa0•í™•í•œ ì\\xa0•ë³´ë¥¼ ì–»ì�„ ìˆ˜ ì�ˆì–´ìš”. Crewingì�€ ì‹\\xa0ë¢°í•\\xa0 ìˆ˜ ì�ˆëŠ” ì\\xa0•ë³´ì™€ ì†”ì§�í•œ í›„ê¸°ë¥¼ ì\\xa0œê³µí•´ì£¼ê¸° ë•Œë¬¸ì—� íš¨ìœ¨ì\\xa0�ìœ¼ë¡œ ë‚´ê²Œ ê¼\\xad ë§�ëŠ” ë�™ì•„ë¦¬ë¥¼ ì„\\xa0íƒ�í•\\xa0 ìˆ˜ ì�ˆìŠµë‹ˆë‹¤.ì‚¬ìš©í•œ ê¸°ìˆ\\xa0 ìŠ¤íƒ� -FE(í”„ë¡\\xa0íŠ¸ì—”ë“œ): Spring Boot, Redis, MySQL-BE(ë°±ì—”ë“œ): SwiftUI Framework, OAuth 2.0ğŸ�…Â\\xa0ì�…ì„\\xa0[í•™êµ�ìƒ�í™œ ë§¤ë‹ˆì\\xa0€] í•™êµ�ìƒ�í™œ ê´€ë¦¬ ì„œë¹„ìŠ¤ì„œë¹„ìŠ¤ ì\\xa0œì�‘ì��: ì•„ì�´ì¹¼F4(ì¡°ë¯¼ì\\xa0œ, ì�´ë¯¼ê¸°, ê°•ê±´, ë°•ê·¼ìš°)ğŸ’¡AëŠ” ì˜¬í•´ ë³µí•™í•œ 3í•™ë…„ í•™ìƒ�ì�…ë‹ˆë‹¤. ê°•ì�˜ì‹¤ê³¼ ë�„ì„œê´€ì�„ ì˜¤ê°€ë©° ë°”ì�œ ì�¼ì\\xa0•ì�„ ì†Œí™”í•˜ëŠ�ë�¼ ì\\xa0•ì‹\\xa0ì�´ ì—†ì§€ë§Œ, ìˆ˜ì—…ë§ˆë‹¤ ë‚˜ì˜¤ëŠ” ê³¼ì\\xa0œì™€ ê°�ì¢… í™œë�™, ì‹œí—˜ ì¤€ë¹„ê¹Œì§€ ê²¹ì¹˜ë©´ì„œ í˜¼ë�€ì—� ë¹\\xa0ì§€ê¸° ì�¼ì‘¤ì˜€ìŠµë‹ˆë‹¤. ë³µí•™ìƒ�ì�´ë‹¤ ë³´ë‹ˆ í•™êµ�ì—�ì„œ ì\\xa0„ë‹¬ë�˜ëŠ” ê³µì§€ì‚¬í•\\xadë�„ ì\\xa0œëŒ€ë¡œ ì\\xa0„ë‹¬ë°›ì§€ ëª»í•´ í•\\xadìƒ� ì¤‘ìš”í•œ ì\\xa0•ë³´ë¥¼ ë†“ì¹\\xa0ê¹Œ ë´� ê±±ì\\xa0•ì�´ì—ˆì£\\xa0.<í•™êµ�ìƒ�í™œ ë§¤ë‹ˆì\\xa0€> ì„œë¹„ìŠ¤ëŠ” í•™êµ� ìƒ�í™œì�„ íš¨ìœ¨ì\\xa0�ìœ¼ë¡œ ê´€ë¦¬í•\\xa0 ìˆ˜ ì�ˆë�„ë¡� ë�•ê¸° ìœ„í•´ ê°œë°œë�œ ê´€ë¦¬ ì•±ì�…ë‹ˆë‹¤. ì�¼ì\\xa0•ê³¼ ê³¼ì\\xa0œ ê´€ë¦¬, ì„±ì\\xa0� ì˜ˆì¸¡, í•™ì\\xa0� ê³„ì‚° ë“± ìº\\xa0í�¼ìŠ¤ ìƒ�í™œê³¼ ê´€ë\\xa0¨ë�œ ë‹¤ì–‘í•œ ê¸°ëŠ¥ì�„ í•œ ê³³ì—�ì„œ ê´€ë¦¬í•\\xa0 ìˆ˜ ì�ˆì–´ìš”. â€˜ìº˜ë¦°ë�” ê¸°ëŠ¥â€™ì�„ í†µí•´ í•™êµ� í•™ì‚¬ ì�¼ì\\xa0•ê³¼ ê°œì�¸ ì�¼ì\\xa0•ì�„ í•œëˆˆì—� í™•ì�¸í•\\xa0 ìˆ˜ ì�ˆê³\\xa0, ë‚\\xa0ì§œë§ˆë‹¤ í•´ì•¼ í•\\xa0 ì�¼ì�„ To-Do Listì—� ì¶”ê°€í•´ ë‘�ë©´ ì¤‘ìš”í•œ ê³¼ì\\xa0œë‚˜ ì‹œí—˜ ì�¼ì\\xa0•ì�´ ë‹¤ê°€ì˜¬ ë•Œë§ˆë‹¤ ì•Œë¦¼ì�„ ë°›ì•„ ë†“ì¹˜ëŠ” ì�¼ì�´ ì—†ìŠµë‹ˆë‹¤. â€˜ê³µì§€ì‚¬í•\\xad ê¸°ëŠ¥â€™ì�„ í†µí•´ ì‹¤ì‹œê°„ìœ¼ë¡œ ì—…ë�°ì�´íŠ¸ë�˜ëŠ” í•™êµ� ê³µì§€ë¥¼ í•œ ê³³ì—�ì„œ í™•ì�¸í•\\xa0 ìˆ˜ ì�ˆìŠµë‹ˆë‹¤. â€˜ì‹œê°„í‘œ ê¸°ëŠ¥â€™ì�€ ìˆ˜ì—…ì‹œê°„, ê°•ì�˜ì‹¤, êµ�ìˆ˜ë‹˜ ì\\xa0•ë³´ ë“±ì�„ í•œëˆˆì—� ë³¼ ìˆ˜ ì�ˆì–´ ì¶œê²° ê´€ë¦¬ë�„ í™•ì‹¤í•˜ê²Œ í•\\xa0 ìˆ˜ ì�ˆì–´ìš”.ì•± ë‚´ì�˜ í•™ì\\xa0� ê³„ì‚°ê¸°ë¥¼ ì‚¬ìš©í•˜ë©´ ì„±ì\\xa0�ì�´ ê·¸ë�˜í”„ë¡œ ì‹œê°�í™”ë�˜ì–´ ë³€í™”ë¥¼ ì‰½ê²Œ íŒŒì•…í•\\xa0 ìˆ˜ ì�ˆê³\\xa0, ì•�ìœ¼ë¡œì�˜ ì„±ì\\xa0� ëª©í‘œë¥¼ ì„¸ìš°ëŠ” ë�°ì—�ë�„ í�° ë�„ì›€ì�´ ë�©ë‹ˆë‹¤. ì˜ˆìƒ� í•™ì\\xa0� ê¸°ëŠ¥ì�„ í†µí•´ ê³¼ëª©ë³„ ì˜ˆìƒ� ë“±ìˆ˜ì™€ í•™ì\\xa0�ì�„ ë¯¸ë¦¬ ê³„ì‚°í•´ ë³´ë©° í•™ìŠµ ê³„íš�ë�„ ì¡°ì\\xa0•í•\\xa0 ìˆ˜ ì�ˆì–´ìš”. <í•™êµ�ìƒ�í™œ ë§¤ë‹ˆì\\xa0€>ì•±ì�„ ì‚¬ìš©í•˜ë©´ ì²´ê³„ì\\xa0�ìœ¼ë¡œ ëŒ€í•™ ìƒ�í™œì�„ ê´€ë¦¬í•˜ê³\\xa0, ë‚¨ì�€ í•™ì—…ê³¼ ì�¼ì\\xa0•ì�„ íš¨ìœ¨ì\\xa0�ìœ¼ë¡œ ê´€ë¦¬í•\\xa0 ìˆ˜ ì�ˆìŠµë‹ˆë‹¤.ì‚¬ìš©í•œ ê¸°ìˆ\\xa0 ìŠ¤íƒ� -FE(í”„ë¡\\xa0íŠ¸ì—”ë“œ): Flutter-BE(ë°±ì—”ë“œ): FirebaseğŸ�…Â\\xa0ì�…ì„\\xa0[BLOTIE] êµ�ë‚´ ì™¸êµ\\xadì�¸Xë‚´êµ\\xadì�¸ ë§¤ì¹\\xad ë°� êµ�ë¥˜ í”Œë�«í�¼ì„œë¹„ìŠ¤ ì\\xa0œì�‘ì��: ë¸”ë¡œí‹°(ì�´ì�€ì£¼, í•œëª…ìˆ˜, í™©ì¤€ì˜�)ğŸ’¡FëŠ” TëŒ€í•™ì—� êµ�í™˜í•™ìƒ�ìœ¼ë¡œ ì˜¨ ì™¸êµ\\xadì�¸ì�…ë‹ˆë‹¤. KíŒ� ë¬¸í™”ê°€ ì¢‹ì•„ í•œêµ\\xadì—� ì™”ì§€ë§Œ, ë§�ë�„ ì�˜ í†µí•˜ì§€ ì•Šê³\\xa0 ë¬¸í™” ì°¨ì�´ë�„ ì�ˆì–´ì„œ í•œêµ\\xad ìº\\xa0í�¼ìŠ¤ ìƒ�í™œì�´ ì‰½ì§€ë§Œì�€ ì•Šì�€ë�°ìš”. í•œêµ\\xadì–´ë¡œ ìˆ˜ì—…ì�„ ë“£ê³\\xa0 í•œêµ\\xad ì¹œêµ¬ë�„ ì‚¬ê·€ê³\\xa0 ì‹¶ì§€ë§Œ í•œêµ\\xad ëŒ€í•™ì�˜ í•™ì‚¬ ì�¼ì\\xa0•ê³¼ ê³¼ì\\xa0œ ë“± ì—¬ëŸ¬ ì‹œìŠ¤í…œì�´ ë‹¬ë�¼ì„œ ì\\xa0�ì�‘í•˜ê¸° ì–´ë\\xa0¤ì›\\xa0ìŠµë‹ˆë‹¤. í•œêµ\\xadì–´ê°€ ì„œíˆ´ë‹¤ë³´ë‹ˆ ìˆ˜ì—…ì—�ì„œ ì\\xa0œê³µë�˜ëŠ” ë‹¤ì–‘í•œ ì\\xa0•ë³´ë¥¼ ì�´í•´í•˜ê¸° ì–´ë\\xa0¤ì›\\xa0ê³\\xa0, ì¤‘ìš”í•œ ê³µì§€ì‚¬í•\\xadì�„ ë†“ì¹˜ê¸°ë�„ í–ˆìŠµë‹ˆë‹¤. í•œêµ\\xadì�¸ ì¹œêµ¬ë¥¼ ë¨¼ì\\xa0€ ì‚¬ê·€ëŠ” ê²ƒì�´ ê¸‰ì„\\xa0ë¬´ë�¼ê³\\xa0 ìƒ�ê°�í–ˆì£\\xa0.<BLOTIE>ëŠ” ì™¸êµ\\xadì�¸ í•™ìƒ�ì�´ ê°€ì§„ ì�´ëŸ° ë¬¸ì\\xa0œë¥¼ í•´ê²°í•˜ê³\\xa0, ë³´ë‹¤ ì¹œë°€í•˜ê³\\xa0 ì��ìœ\\xa0ë¡œìš´ ê¸€ë¡œë²Œ ìº\\xa0í�¼ìŠ¤ ë¬¸í™”ë¥¼ ì¡°ì„±í•˜ê¸° ìœ„í•´ ë§Œë“¤ì–´ì§„ í”Œë�«í�¼ì�…ë‹ˆë‹¤. â€˜1:1 ë§¤ì¹\\xad ê¸°ëŠ¥â€™ìœ¼ë¡œ êµ�ë‚´ ì™¸êµ\\xadì�¸ í•™ìƒ�ê³¼ í•œêµ\\xadì�¸ í•™ìƒ�ì�„ ì‰½ê²Œ ì—°ê²°í•\\xa0 ìˆ˜ ì�ˆì–´ìš”. ì„œë¡œì�˜ ë¬¸í™”ì™€ ì–¸ì–´ë¥¼ ì��ì—°ìŠ¤ëŸ½ê²Œ ë°°ìš°ê³\\xa0 êµ�ë¥˜í•\\xa0 ìˆ˜ ì�ˆìŠµë‹ˆë‹¤. ê´€ì‹¬ì‚¬, ì–¸ì–´ ëŠ¥ë\\xa0¥, ì„±ê²© ë“±ì�„ ê¸°ë°˜ìœ¼ë¡œ ì�´ë¤„ì§€ê¸° ë•Œë¬¸ì—� ì�¼íšŒì„± ë§¤ì¹\\xadì—� ëŒ€í•œ ê±±ì\\xa0•ë�„ ì¤„ì–´ë“¤ì–´ìš”. ë§¤ì¹\\xadë�œ í•™ìƒ�ë“¤ì�€ í”Œë�«í�¼ ë‚´ì—�ì„œ â€˜ì‹¤ì‹œê°„ ì±„íŒ…ê³¼ í”¼ë“œ ê¸°ëŠ¥â€™ìœ¼ë¡œ ì��ìœ\\xa0ë¡\\xadê²Œ ì†Œí†µí•\\xa0 ìˆ˜ ì�ˆê³\\xa0, ë‹¤ì–‘í•œ ì£¼ì\\xa0œë¡œ ë§Œë‚¨ì�„ ì�´ì–´ê°ˆ ìˆ˜ ì�ˆìŠµë‹ˆë‹¤.ì™¸êµ\\xadì�¸ì�€ í•œêµ\\xadì–´ ì‹¤ë\\xa0¥ì�„ í–¥ìƒ�í•\\xa0 ìˆ˜ ì�ˆê³\\xa0 í•œêµ\\xadì�¸ì�€ ì™¸êµ\\xadì–´ë¥¼ ì‹¤ìƒ�í™œì—�ì„œ ì—°ìŠµí•\\xa0 ê¸°íšŒë¥¼ ì–»ì�„ ìˆ˜ ì�ˆì–´ìš”. BLOTIEë¥¼ í†µí•´ ìº\\xa0í�¼ìŠ¤ ë‚´ì—� ë³´ë‹¤ ë‹¤ì–‘í•œ ë¬¸í™”ê°€ ê³µì¡´í•˜ê³\\xa0, í•™ìƒ�ë“¤ ê°„ì�˜ ìœ\\xa0ëŒ€ê°�ì�´ ê°•í™”ë�˜ê³\\xa0, ì„œë¡œ ë‹¤ë¥¸ ë°°ê²½ì�„ ê°€ì§„ í•™ìƒ�ë“¤ì�´ í•¨ê»˜ ì„±ì�¥í•\\xa0 ìˆ˜ ì�ˆëŠ” í™˜ê²½ì�´ ì¡°ì„±ë�©ë‹ˆë‹¤. ê¸€ë¡œë²Œ ì‚¬íšŒì—�ì„œ ì¤‘ìš”í•œ ì†Œí†µ ëŠ¥ë\\xa0¥ì�„ ê¸°ë¥¼ ìˆ˜ ì�ˆëŠ” ë¬¸í™”ì�˜ ì�¥ìœ¼ë¡œ ì“°ì�¼ ìˆ˜ ì�ˆê²\\xa0ì£\\xa0!ì‚¬ìš©í•œ ê¸°ìˆ\\xa0 ìŠ¤íƒ�-FE(í”„ë¡\\xa0íŠ¸ì—”ë“œ): Spring Boot, MySQL, Spring WebSocket-BE(ë°±ì—”ë“œ): React Native, TanStack Query, Axiosì½”ë”© ê³µëª¨ì\\xa0„ ìˆ˜ìƒ�ì�‘ì�€ ëŒ€í•™ìƒ�ë“¤ì�˜ íŒ€í”„ë¡œì\\xa0�íŠ¸ë¥¼ í†µí•´ ë§Œë“¤ì–´ì§„ ì›¹/ì•± ì„œë¹„ìŠ¤ì�…ë‹ˆë‹¤. ìº\\xa0í�¼ìŠ¤ì—�ì„œì�˜ ë¬¸ì\\xa0œë¥¼ í•´ê²°í•˜ì��ëŠ” ì°¸ê°€ì��ë“¤ì�˜ ì•„ì�´ë””ì–´ì—�ì„œ ì‹œì�‘ë�˜ì—ˆì£\\xa0. ëˆ„êµ¬ë‚˜ ì„¸ìƒ�ì—� ì„\\xa0ë³´ì�´ê³\\xa0 ì‹¶ì�€ ë‚˜ë§Œì�˜ ì•„ì�´ë””ì–´ì™€ ê¸°ì´ˆ ì½”ë”© ê¸°ìˆ\\xa0ë§Œ í™œìš©í•œë‹¤ë©´, ì–¼ë§ˆë“\\xa0ì§€ ì„œë¹„ìŠ¤ë¥¼ ë§Œë“¤ ìˆ˜ ì�ˆìŠµë‹ˆë‹¤. ìŠ¤íŒŒë¥´íƒ€ì½”ë”©í�´ëŸ½ì�˜ ë‚´ì�¼ë°°ì›€ìº\\xa0í”„ì—�ì„œëŠ” ë¹„ì\\xa0„ê³µ, ì´ˆë³´ì��ë�„ ì›¹/ì•± ê°œë°œì��ë¡œ ê±°ë“\\xadë‚\\xa0 ìˆ˜ ì�ˆëŠ” ë‹¤ì–‘í•œ íŠ¸ë�™ì�´ ì¤€ë¹„ë�¼ ì�ˆìŠµë‹ˆë‹¤. ë‚˜ë§Œì�˜ ì•„ì�´ë””ì–´ë¥¼ ì„¸ìƒ�ì—� ì„\\xa0ë³´ì�´ê³\\xa0 ì‹¶ì�€ ëˆ„êµ¬ë‚˜ì—�ê²Œ ì—´ë\\xa0¤ ì�ˆìœ¼ë‹ˆ ì£¼ì\\xa0€ë§�ê³\\xa0 ë�„ì\\xa0„í•´ ë³´ì„¸ìš”.ğŸ’¡<All-in> ì½”ë”© ê³µëª¨ì\\xa0„ì—�ì„œ ë§Œë“\\xa0 ë‹¤ì–‘í•œ ì„œë¹„ìŠ¤ë¥¼ ë§Œë‚˜ë³´ê³\\xa0 ì‹¶ë‹¤ë©´?ë‹¤ì–‘í•œ ì„œë¹„ìŠ¤ì™€ ê¸°ë°œí•œ ì•„ì�´ë””ì–´ê°€ ëª¨ì�¸ ê³³ì—� ì´ˆëŒ€í•©ë‹ˆë‹¤. ì°¸ê°€ì��ë“¤ì�˜ ë¬¸ì\\xa0œ í•´ê²°ë°©ë²•ì�´ ê¶�ê¸ˆí•˜ì‹œë‹¤ë©´ ì§€ê¸ˆ ë°”ë¡œ â€˜All-in ê³µëª¨ì\\xa0„â€™ì—�ì„œ ë§Œë‚˜ë³´ì„¸ìš”!ğŸ‘‰ğŸ�»Â\\xa0ê³µëª¨ì\\xa0„ ê²°ê³¼ë¬¼ ë³´ëŸ¬ê°€ê¸°ëˆ„êµ¬ë‚˜ í�°ì�¼ ë‚¼ ìˆ˜ ì�ˆì–´ìŠ¤íŒŒë¥´íƒ€ì½”ë”©í�´ëŸ½ê¸€ | ì‹\\xa0ìˆ˜ì§€ íŒ€ìŠ¤íŒŒë¥´íƒ€ ì—�ë””í„°')]"
            ]
          },
          "metadata": {},
          "execution_count": 5
        }
      ]
    },
    {
      "cell_type": "code",
      "source": [
        "text_splitter = RecursiveCharacterTextSplitter(\n",
        "    chunk_size=1000,\n",
        "    chunk_overlap=200\n",
        ")\n",
        "splits = text_splitter.split_documents(docs)\n",
        "vectorstore = Chroma.from_documents(\n",
        "    documents=splits,\n",
        "    embedding=OpenAIEmbeddings(api_key=openai_api_key)\n",
        ")"
      ],
      "metadata": {
        "id": "ewqNBMS_I7zB"
      },
      "execution_count": 7,
      "outputs": []
    },
    {
      "cell_type": "code",
      "source": [
        "retriever = vectorstore.as_retriever()\n",
        "\n",
        "user_msg = \"ALL-in 코딩 공모전 수상작들을 요약해줘.\"\n",
        "retrieved_docs = retriever.invoke(user_msg)\n",
        "\n",
        "def format_docs(docs):\n",
        "    return \"\\n\\n\".join(doc.page_content for doc in docs)\n",
        "prompt = hub.pull(\"rlm/rag-prompt\")\n",
        "\n",
        "user_prompt = prompt.invoke({\"context\": format_docs(retrieved_docs), \"question\": user_msg})\n",
        "print(user_prompt)"
      ],
      "metadata": {
        "colab": {
          "base_uri": "https://localhost:8080/"
        },
        "id": "dKwUiRrPJMq1",
        "outputId": "9bf27d27-7040-43ec-ec33-14a134a26cf3"
      },
      "execution_count": 8,
      "outputs": [
        {
          "output_type": "stream",
          "name": "stdout",
          "text": [
            "messages=[HumanMessage(content=\"You are an assistant for question-answering tasks. Use the following pieces of retrieved context to answer the question. If you don't know the answer, just say that you don't know. Use three sentences maximum and keep the answer concise.\\nQuestion: ALL-in 코딩 공모전 수상작들을 요약해줘. \\nContext: ì„œë¹„ìŠ¤ë¥¼ ë§Œë‚˜ë³´ê³\\xa0 ì‹¶ë‹¤ë©´?ë‹¤ì–‘í•œ ì„œë¹„ìŠ¤ì™€ ê¸°ë°œí•œ ì•„ì�´ë””ì–´ê°€ ëª¨ì�¸ ê³³ì—� ì´ˆëŒ€í•©ë‹ˆë‹¤. ì°¸ê°€ì��ë“¤ì�˜ ë¬¸ì\\xa0œ í•´ê²°ë°©ë²•ì�´ ê¶�ê¸ˆí•˜ì‹œë‹¤ë©´ ì§€ê¸ˆ ë°”ë¡œ â€˜All-in ê³µëª¨ì\\xa0„â€™ì—�ì„œ ë§Œë‚˜ë³´ì„¸ìš”!ğŸ‘‰ğŸ�»Â\\xa0ê³µëª¨ì\\xa0„ ê²°ê³¼ë¬¼ ë³´ëŸ¬ê°€ê¸°ëˆ„êµ¬ë‚˜ í�°ì�¼ ë‚¼ ìˆ˜ ì�ˆì–´ìŠ¤íŒŒë¥´íƒ€ì½”ë”©í�´ëŸ½ê¸€ | ì‹\\xa0ìˆ˜ì§€ íŒ€ìŠ¤íŒŒë¥´íƒ€ ì—�ë””í„°\\n\\nSpring Boot, MySQL, Spring WebSocket-BE(ë°±ì—”ë“œ): React Native, TanStack Query, Axiosì½”ë”© ê³µëª¨ì\\xa0„ ìˆ˜ìƒ�ì�‘ì�€ ëŒ€í•™ìƒ�ë“¤ì�˜ íŒ€í”„ë¡œì\\xa0�íŠ¸ë¥¼ í†µí•´ ë§Œë“¤ì–´ì§„ ì›¹/ì•± ì„œë¹„ìŠ¤ì�…ë‹ˆë‹¤. ìº\\xa0í�¼ìŠ¤ì—�ì„œì�˜ ë¬¸ì\\xa0œë¥¼ í•´ê²°í•˜ì��ëŠ” ì°¸ê°€ì��ë“¤ì�˜ ì•„ì�´ë””ì–´ì—�ì„œ ì‹œì�‘ë�˜ì—ˆì£\\xa0. ëˆ„êµ¬ë‚˜ ì„¸ìƒ�ì—� ì„\\xa0ë³´ì�´ê³\\xa0 ì‹¶ì�€ ë‚˜ë§Œì�˜ ì•„ì�´ë””ì–´ì™€ ê¸°ì´ˆ ì½”ë”© ê¸°ìˆ\\xa0ë§Œ í™œìš©í•œë‹¤ë©´, ì–¼ë§ˆë“\\xa0ì§€ ì„œë¹„ìŠ¤ë¥¼ ë§Œë“¤ ìˆ˜ ì�ˆìŠµë‹ˆë‹¤. ìŠ¤íŒŒë¥´íƒ€ì½”ë”©í�´ëŸ½ì�˜ ë‚´ì�¼ë°°ì›€ìº\\xa0í”„ì—�ì„œëŠ” ë¹„ì\\xa0„ê³µ, ì´ˆë³´ì��ë�„ ì›¹/ì•± ê°œë°œì��ë¡œ ê±°ë“\\xadë‚\\xa0 ìˆ˜ ì�ˆëŠ” ë‹¤ì–‘í•œ íŠ¸ë�™ì�´ ì¤€ë¹„ë�¼ ì�ˆìŠµë‹ˆë‹¤. ë‚˜ë§Œì�˜ ì•„ì�´ë””ì–´ë¥¼ ì„¸ìƒ�ì—� ì„\\xa0ë³´ì�´ê³\\xa0 ì‹¶ì�€ ëˆ„êµ¬ë‚˜ì—�ê²Œ ì—´ë\\xa0¤ ì�ˆìœ¼ë‹ˆ ì£¼ì\\xa0€ë§�ê³\\xa0 ë�„ì\\xa0„í•´ ë³´ì„¸ìš”.ğŸ’¡<All-in> ì½”ë”© ê³µëª¨ì\\xa0„ì—�ì„œ ë§Œë“\\xa0 ë‹¤ì–‘í•œ ì„œë¹„ìŠ¤ë¥¼ ë§Œë‚˜ë³´ê³\\xa0 ì‹¶ë‹¤ë©´?ë‹¤ì–‘í•œ ì„œë¹„ìŠ¤ì™€ ê¸°ë°œí•œ ì•„ì�´ë””ì–´ê°€ ëª¨ì�¸ ê³³ì—� ì´ˆëŒ€í•©ë‹ˆë‹¤. ì°¸ê°€ì��ë“¤ì�˜ ë¬¸ì\\xa0œ í•´ê²°ë°©ë²•ì�´ ê¶�ê¸ˆí•˜ì‹œë‹¤ë©´ ì§€ê¸ˆ ë°”ë¡œ â€˜All-in\\n\\ní�©ì–´ì\\xa0¸ ì�ˆê³\\xa0, ì‹\\xa0ë¢°í•\\xa0 ë§Œí•œ ì\\xa0•ë³´ë¥¼ ì°¾ê¸° ì–´ë\\xa0¤ì›\\xa0ìŠµë‹ˆë‹¤.<Crewing>ì�€ ëŒ€í•™ìƒ�ë“¤ì�´ ë‹¤ì–‘í•œ ì—°í•© ë�™ì•„ë¦¬ì—� ì‰½ê²Œ ê°€ì�…í•˜ê³\\xa0, ì\\xa0�ì\\xa0ˆí•œ ë�™ì•„ë¦¬ë¥¼ ì°¾ì�„ ìˆ˜ ì�ˆë�„ë¡� ì§€ì›�í•´ì£¼ëŠ” ì•„ì¹´ì�´ë¹™ í”Œë�«í�¼ì�…ë‹ˆë‹¤. íšŒì›�ê°€ì�… ì‹œ ìƒ�ë…„, ì„±ë³„, ê´€ì‹¬ ë¶„ì•¼ë¥¼ ì�…ë\\xa0¥í•˜ì�� ë”± ë§�ëŠ” ë�™ì•„ë¦¬ë¥¼ ì¶”ì²œí•´ì£¼ì£\\xa0. í”Œë�«í�¼ ë‚´ì—�ì„œ ë�™ì•„ë¦¬ì�˜ ë¦¬í�¬ë£¨íŒ… ê³¼ì\\xa0•ì�¸ ì„œë¥˜ ì\\xa0„í˜•, ì�¸í„°ë·° ì�¼ì\\xa0•, ìµœì¢… ê²°ê³¼ ë°œí‘œ ë“±ì�„ í•œ ë²ˆì—� í•´ê²°í•\\xa0 ìˆ˜ ì�ˆì–´ìš”. ì‹¤ì\\xa0œ ë�™ì•„ë¦¬ì—� ê°€ì�…í•œ ì‚¬ë�Œë“¤ì�˜ ì†”ì§�í•œ í›„ê¸°ë¥¼ ì\\xa0œê³µí•´ì£¼ê¸° ë•Œë¬¸ì—� ë³´ë‹¤ ì\\xa0•í™•í•œ ì\\xa0•ë³´ë¥¼ ì–»ì�„ ìˆ˜ ì�ˆì–´ìš”. Crewingì�€ ì‹\\xa0ë¢°í•\\xa0 ìˆ˜ ì�ˆëŠ” ì\\xa0•ë³´ì™€ ì†”ì§�í•œ í›„ê¸°ë¥¼ ì\\xa0œê³µí•´ì£¼ê¸° ë•Œë¬¸ì—� íš¨ìœ¨ì\\xa0�ìœ¼ë¡œ ë‚´ê²Œ ê¼\\xad ë§�ëŠ” ë�™ì•„ë¦¬ë¥¼ ì„\\xa0íƒ�í•\\xa0 ìˆ˜ ì�ˆìŠµë‹ˆë‹¤.ì‚¬ìš©í•œ ê¸°ìˆ\\xa0 ìŠ¤íƒ� -FE(í”„ë¡\\xa0íŠ¸ì—”ë“œ): Spring Boot, Redis, MySQL-BE(ë°±ì—”ë“œ): SwiftUI Framework, OAuth 2.0ğŸ�…Â\\xa0ì�…ì„\\xa0[í•™êµ�ìƒ�í™œ ë§¤ë‹ˆì\\xa0€] í•™êµ�ìƒ�í™œ ê´€ë¦¬ ì„œë¹„ìŠ¤ì„œë¹„ìŠ¤\\n\\nê¸°ìˆ\\xa0 ìŠ¤íƒ� -FE(í”„ë¡\\xa0íŠ¸ì—”ë“œ): Spring Boot, Redis, MySQL-BE(ë°±ì—”ë“œ): SwiftUI Framework, OAuth 2.0ğŸ�…Â\\xa0ì�…ì„\\xa0[í•™êµ�ìƒ�í™œ ë§¤ë‹ˆì\\xa0€] í•™êµ�ìƒ�í™œ ê´€ë¦¬ ì„œë¹„ìŠ¤ì„œë¹„ìŠ¤ ì\\xa0œì�‘ì��: ì•„ì�´ì¹¼F4(ì¡°ë¯¼ì\\xa0œ, ì�´ë¯¼ê¸°, ê°•ê±´, ë°•ê·¼ìš°)ğŸ’¡AëŠ” ì˜¬í•´ ë³µí•™í•œ 3í•™ë…„ í•™ìƒ�ì�…ë‹ˆë‹¤. ê°•ì�˜ì‹¤ê³¼ ë�„ì„œê´€ì�„ ì˜¤ê°€ë©° ë°”ì�œ ì�¼ì\\xa0•ì�„ ì†Œí™”í•˜ëŠ�ë�¼ ì\\xa0•ì‹\\xa0ì�´ ì—†ì§€ë§Œ, ìˆ˜ì—…ë§ˆë‹¤ ë‚˜ì˜¤ëŠ” ê³¼ì\\xa0œì™€ ê°�ì¢… í™œë�™, ì‹œí—˜ ì¤€ë¹„ê¹Œì§€ ê²¹ì¹˜ë©´ì„œ í˜¼ë�€ì—� ë¹\\xa0ì§€ê¸° ì�¼ì‘¤ì˜€ìŠµë‹ˆë‹¤. ë³µí•™ìƒ�ì�´ë‹¤ ë³´ë‹ˆ í•™êµ�ì—�ì„œ ì\\xa0„ë‹¬ë�˜ëŠ” ê³µì§€ì‚¬í•\\xadë�„ ì\\xa0œëŒ€ë¡œ ì\\xa0„ë‹¬ë°›ì§€ ëª»í•´ í•\\xadìƒ� ì¤‘ìš”í•œ ì\\xa0•ë³´ë¥¼ ë†“ì¹\\xa0ê¹Œ ë´� ê±±ì\\xa0•ì�´ì—ˆì£\\xa0.<í•™êµ�ìƒ�í™œ ë§¤ë‹ˆì\\xa0€> ì„œë¹„ìŠ¤ëŠ” í•™êµ� ìƒ�í™œì�„ íš¨ìœ¨ì\\xa0�ìœ¼ë¡œ ê´€ë¦¬í•\\xa0 ìˆ˜ ì�ˆë�„ë¡� ë�•ê¸° ìœ„í•´ ê°œë°œë�œ ê´€ë¦¬ ì•±ì�…ë‹ˆë‹¤. ì�¼ì\\xa0•ê³¼ ê³¼ì\\xa0œ ê´€ë¦¬, ì„±ì\\xa0� ì˜ˆì¸¡, í•™ì\\xa0� ê³„ì‚° ë“± ìº\\xa0í�¼ìŠ¤ ìƒ�í™œê³¼ ê´€ë\\xa0¨ë�œ ë‹¤ì–‘í•œ ê¸°ëŠ¥ì�„ í•œ ê³³ì—�ì„œ ê´€ë¦¬í•\\xa0 ìˆ˜ ì�ˆì–´ìš”. â€˜ìº˜ë¦°ë�” ê¸°ëŠ¥â€™ì�„ í†µí•´ í•™êµ� í•™ì‚¬ \\nAnswer:\", additional_kwargs={}, response_metadata={})]\n"
          ]
        },
        {
          "output_type": "stream",
          "name": "stderr",
          "text": [
            "/usr/local/lib/python3.11/dist-packages/langsmith/client.py:280: LangSmithMissingAPIKeyWarning: API key must be provided when using hosted LangSmith API\n",
            "  warnings.warn(\n"
          ]
        }
      ]
    },
    {
      "cell_type": "code",
      "source": [
        "response = llm.invoke(user_prompt)\n",
        "print(response.content)"
      ],
      "metadata": {
        "colab": {
          "base_uri": "https://localhost:8080/"
        },
        "id": "bqHKsIyUJc_m",
        "outputId": "eff94a28-8ee4-42ec-9094-a58d79939b9b"
      },
      "execution_count": 9,
      "outputs": [
        {
          "output_type": "stream",
          "name": "stdout",
          "text": [
            "ALL-in 코딩 공모전의 수상작들은 다양한 기술 스택을 기반으로 한 프로젝트들로 구성되어 있습니다. 주요 기술로는 Spring Boot, MySQL, React Native 등이 사용되었으며, 웹소켓과 RESTful API를 통해 실시간 데이터 처리를 구현했습니다. 이러한 프로젝트들은 사용자 인터페이스와 백엔드 시스템 간의 원활한 통신을 목표로 하여 결과적으로 혁신적인 아이디어를 반영하고 있습니다.\n"
          ]
        }
      ]
    },
    {
      "cell_type": "code",
      "source": [],
      "metadata": {
        "id": "pSXxCzCNJfIO"
      },
      "execution_count": null,
      "outputs": []
    }
  ]
}