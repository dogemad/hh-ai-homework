{
  "nbformat": 4,
  "nbformat_minor": 0,
  "metadata": {
    "colab": {
      "provenance": [],
      "gpuType": "T4"
    },
    "kernelspec": {
      "name": "python3",
      "display_name": "Python 3"
    },
    "language_info": {
      "name": "python"
    },
    "accelerator": "GPU"
  },
  "cells": [
    {
      "cell_type": "markdown",
      "source": [
        "## 1. torch initialize"
      ],
      "metadata": {
        "id": "htBwl2gl48ko"
      }
    },
    {
      "cell_type": "code",
      "execution_count": 1,
      "metadata": {
        "id": "Obdcw5Z94z3i"
      },
      "outputs": [],
      "source": [
        "import torch\n",
        "import torchvision\n",
        "import torchvision.transforms as transforms\n",
        "\n",
        "transform = transforms.ToTensor()\n",
        "\n",
        "# constraints\n",
        "n_epochs = 100\n",
        "batch_size = 256\n",
        "lr = 0.001"
      ]
    },
    {
      "cell_type": "markdown",
      "source": [
        "## 2. Train Set and Train Loader"
      ],
      "metadata": {
        "id": "nhUlfp5t5ImE"
      }
    },
    {
      "cell_type": "code",
      "source": [
        "train_set = torchvision.datasets.MNIST(\n",
        "    root='./data',\n",
        "    train=True,\n",
        "    download=True,\n",
        "    transform=transform\n",
        ")\n",
        "\n",
        "train_loader = torch.utils.data.DataLoader(\n",
        "    train_set,\n",
        "    batch_size=batch_size,\n",
        "    shuffle=True\n",
        ")"
      ],
      "metadata": {
        "colab": {
          "base_uri": "https://localhost:8080/"
        },
        "id": "GfhsKVzF4_NG",
        "outputId": "7ad9346d-a174-4e3e-f347-ab8114061510"
      },
      "execution_count": 2,
      "outputs": [
        {
          "output_type": "stream",
          "name": "stderr",
          "text": [
            "100%|██████████| 9.91M/9.91M [00:01<00:00, 5.06MB/s]\n",
            "100%|██████████| 28.9k/28.9k [00:00<00:00, 133kB/s]\n",
            "100%|██████████| 1.65M/1.65M [00:01<00:00, 1.25MB/s]\n",
            "100%|██████████| 4.54k/4.54k [00:00<00:00, 5.89MB/s]\n"
          ]
        }
      ]
    },
    {
      "cell_type": "markdown",
      "source": [
        "## 3. Test Set and Test Loader and Accuracy"
      ],
      "metadata": {
        "id": "UJXNzrOm62Ye"
      }
    },
    {
      "cell_type": "code",
      "source": [
        "test_set = torchvision.datasets.MNIST(\n",
        "    root='./data',\n",
        "    train=False,\n",
        "    download=True,\n",
        "    transform=transform\n",
        ")\n",
        "\n",
        "test_loader = torch.utils.data.DataLoader(\n",
        "    test_set,\n",
        "    batch_size=batch_size,\n",
        "    shuffle=False\n",
        ")\n",
        "\n",
        "def accuracy(model, dataloader):\n",
        "  cnt = 0\n",
        "  acc = 0\n",
        "\n",
        "  for data in dataloader:\n",
        "    inputs, labels = data\n",
        "    inputs, labels = inputs.to('cuda'), labels.to('cuda')\n",
        "\n",
        "    preds = model(inputs)\n",
        "    preds = torch.argmax(preds, dim=-1)\n",
        "\n",
        "    cnt += labels.shape[0]\n",
        "    acc += (labels == preds).sum().item()\n",
        "\n",
        "  return acc / cnt"
      ],
      "metadata": {
        "id": "fBofBbzB6_cT"
      },
      "execution_count": 3,
      "outputs": []
    },
    {
      "cell_type": "markdown",
      "source": [
        "## 4. Define Model"
      ],
      "metadata": {
        "id": "nL5u8AOv5sxu"
      }
    },
    {
      "cell_type": "code",
      "source": [
        "from torch import nn\n",
        "\n",
        "class Model(nn.Module):\n",
        "  def __init__(self, input_dim, n_dim):\n",
        "    super().__init__()\n",
        "\n",
        "    self.layer1 = nn.Linear(input_dim, n_dim)\n",
        "    self.layer2 = nn.Linear(n_dim, n_dim)\n",
        "    self.layer3 = nn.Linear(n_dim, 10)\n",
        "\n",
        "    self.act = nn.ReLU()\n",
        "\n",
        "  def forward(self, x):\n",
        "    x = torch.flatten(x, start_dim=1)\n",
        "    x = self.act(self.layer1(x))\n",
        "    x = self.act(self.layer2(x))\n",
        "    x = self.act(self.layer3(x))\n",
        "\n",
        "    return x"
      ],
      "metadata": {
        "id": "4mqtY2_95vJZ"
      },
      "execution_count": 6,
      "outputs": []
    },
    {
      "cell_type": "markdown",
      "source": [
        "## 5. Create Model And Optimizer"
      ],
      "metadata": {
        "id": "JFKNbQGi54mv"
      }
    },
    {
      "cell_type": "code",
      "source": [
        "from torch.optim import SGD\n",
        "\n",
        "model = Model(28 * 28 * 1, 1024).to('cuda')\n",
        "optimizer = SGD(model.parameters(), lr = lr)"
      ],
      "metadata": {
        "id": "2xxD7Id67eMR"
      },
      "execution_count": 7,
      "outputs": []
    },
    {
      "cell_type": "markdown",
      "source": [
        "## 6. Training"
      ],
      "metadata": {
        "id": "2xFc67Mq9m-c"
      }
    },
    {
      "cell_type": "code",
      "source": [
        "loss_fn = nn.CrossEntropyLoss()\n",
        "train_accs = []\n",
        "test_accs = []\n",
        "\n",
        "for epoch in range(n_epochs):\n",
        "  total_loss = 0.\n",
        "\n",
        "  for data in train_loader:\n",
        "    model.zero_grad()\n",
        "\n",
        "    inputs, labels = data\n",
        "    inputs, labels = inputs.to('cuda'), labels.to('cuda')\n",
        "\n",
        "    preds = model(inputs)\n",
        "    loss = loss_fn(preds, labels)\n",
        "    loss.backward()\n",
        "    optimizer.step()\n",
        "\n",
        "    total_loss += loss.item()\n",
        "\n",
        "  # print total loss for epoch\n",
        "  print(f\"Epoch {epoch:3d} | Loss: {total_loss}\")\n",
        "\n",
        "  train_accs.append(accuracy(model, train_loader))\n",
        "  test_accs.append(accuracy(model, test_loader))\n"
      ],
      "metadata": {
        "colab": {
          "base_uri": "https://localhost:8080/"
        },
        "id": "1TrhOPOv9wm1",
        "outputId": "b275cf71-a403-47bd-b281-440e727012fd"
      },
      "execution_count": 8,
      "outputs": [
        {
          "output_type": "stream",
          "name": "stdout",
          "text": [
            "Epoch   0 | Loss: 539.4335515499115\n",
            "Epoch   1 | Loss: 535.9674732685089\n",
            "Epoch   2 | Loss: 532.4120099544525\n",
            "Epoch   3 | Loss: 528.7028298377991\n",
            "Epoch   4 | Loss: 524.7245454788208\n",
            "Epoch   5 | Loss: 520.3864593505859\n",
            "Epoch   6 | Loss: 515.5854535102844\n",
            "Epoch   7 | Loss: 510.2228846549988\n",
            "Epoch   8 | Loss: 504.1994342803955\n",
            "Epoch   9 | Loss: 497.39736890792847\n",
            "Epoch  10 | Loss: 489.6946179866791\n",
            "Epoch  11 | Loss: 481.0281435251236\n",
            "Epoch  12 | Loss: 471.32168841362\n",
            "Epoch  13 | Loss: 460.52759754657745\n",
            "Epoch  14 | Loss: 448.58919727802277\n",
            "Epoch  15 | Loss: 435.6132963895798\n",
            "Epoch  16 | Loss: 421.61955869197845\n",
            "Epoch  17 | Loss: 406.81906378269196\n",
            "Epoch  18 | Loss: 391.4255050420761\n",
            "Epoch  19 | Loss: 375.7904793024063\n",
            "Epoch  20 | Loss: 360.2449916601181\n",
            "Epoch  21 | Loss: 345.05585610866547\n",
            "Epoch  22 | Loss: 330.6469441652298\n",
            "Epoch  23 | Loss: 317.00219655036926\n",
            "Epoch  24 | Loss: 304.3328278064728\n",
            "Epoch  25 | Loss: 287.50771498680115\n",
            "Epoch  26 | Loss: 270.01320695877075\n",
            "Epoch  27 | Loss: 254.91247802972794\n",
            "Epoch  28 | Loss: 241.50208646059036\n",
            "Epoch  29 | Loss: 229.5780879855156\n",
            "Epoch  30 | Loss: 218.65675628185272\n",
            "Epoch  31 | Loss: 208.91086715459824\n",
            "Epoch  32 | Loss: 200.01522779464722\n",
            "Epoch  33 | Loss: 191.92214959859848\n",
            "Epoch  34 | Loss: 184.58801329135895\n",
            "Epoch  35 | Loss: 177.97564190626144\n",
            "Epoch  36 | Loss: 171.94354099035263\n",
            "Epoch  37 | Loss: 166.51946860551834\n",
            "Epoch  38 | Loss: 161.66233772039413\n",
            "Epoch  39 | Loss: 157.00618344545364\n",
            "Epoch  40 | Loss: 152.8114534020424\n",
            "Epoch  41 | Loss: 148.89990144968033\n",
            "Epoch  42 | Loss: 145.33249592781067\n",
            "Epoch  43 | Loss: 142.12563130259514\n",
            "Epoch  44 | Loss: 138.95623496174812\n",
            "Epoch  45 | Loss: 136.23241111636162\n",
            "Epoch  46 | Loss: 133.39127123355865\n",
            "Epoch  47 | Loss: 131.01827785372734\n",
            "Epoch  48 | Loss: 128.55732217431068\n",
            "Epoch  49 | Loss: 126.29189738631248\n",
            "Epoch  50 | Loss: 124.25101071596146\n",
            "Epoch  51 | Loss: 122.28106209635735\n",
            "Epoch  52 | Loss: 120.44907185435295\n",
            "Epoch  53 | Loss: 118.5993919968605\n",
            "Epoch  54 | Loss: 116.96108171343803\n",
            "Epoch  55 | Loss: 115.3918280005455\n",
            "Epoch  56 | Loss: 113.8730748295784\n",
            "Epoch  57 | Loss: 112.51383230090141\n",
            "Epoch  58 | Loss: 111.04935628175735\n",
            "Epoch  59 | Loss: 109.79656103253365\n",
            "Epoch  60 | Loss: 108.49435660243034\n",
            "Epoch  61 | Loss: 107.29184079170227\n",
            "Epoch  62 | Loss: 106.17107304930687\n",
            "Epoch  63 | Loss: 105.0529148876667\n",
            "Epoch  64 | Loss: 104.08229383826256\n",
            "Epoch  65 | Loss: 102.99648454785347\n",
            "Epoch  66 | Loss: 102.01643431186676\n",
            "Epoch  67 | Loss: 101.23009568452835\n",
            "Epoch  68 | Loss: 100.26305663585663\n",
            "Epoch  69 | Loss: 99.49932408332825\n",
            "Epoch  70 | Loss: 98.53220772743225\n",
            "Epoch  71 | Loss: 97.75024226307869\n",
            "Epoch  72 | Loss: 97.08294785022736\n",
            "Epoch  73 | Loss: 96.21980193257332\n",
            "Epoch  74 | Loss: 95.582415163517\n",
            "Epoch  75 | Loss: 94.94560506939888\n",
            "Epoch  76 | Loss: 94.16820907592773\n",
            "Epoch  77 | Loss: 93.61851677298546\n",
            "Epoch  78 | Loss: 93.0165867805481\n",
            "Epoch  79 | Loss: 92.42367470264435\n",
            "Epoch  80 | Loss: 91.85081052780151\n",
            "Epoch  81 | Loss: 91.28213140368462\n",
            "Epoch  82 | Loss: 90.73900945484638\n",
            "Epoch  83 | Loss: 90.14361184835434\n",
            "Epoch  84 | Loss: 89.71292871236801\n",
            "Epoch  85 | Loss: 89.18002352118492\n",
            "Epoch  86 | Loss: 88.72325024008751\n",
            "Epoch  87 | Loss: 88.2184943407774\n",
            "Epoch  88 | Loss: 87.7179761081934\n",
            "Epoch  89 | Loss: 87.26583856344223\n",
            "Epoch  90 | Loss: 86.92874048650265\n",
            "Epoch  91 | Loss: 86.47596228122711\n",
            "Epoch  92 | Loss: 86.08609917759895\n",
            "Epoch  93 | Loss: 85.78001388907433\n",
            "Epoch  94 | Loss: 85.26424929499626\n",
            "Epoch  95 | Loss: 84.82859420776367\n",
            "Epoch  96 | Loss: 84.57592356204987\n",
            "Epoch  97 | Loss: 84.1810347288847\n",
            "Epoch  98 | Loss: 83.7560064792633\n",
            "Epoch  99 | Loss: 83.50849725306034\n"
          ]
        }
      ]
    },
    {
      "cell_type": "markdown",
      "source": [
        "## 7. Visualize"
      ],
      "metadata": {
        "id": "h2zdbcgM_ehr"
      }
    },
    {
      "cell_type": "code",
      "source": [
        "import numpy as np\n",
        "from matplotlib import pyplot as plt\n",
        "\n",
        "def plot_acc(train_accs, test_accs, label1='train', label2='test'):\n",
        "  x = np.arange(len(train_accs))\n",
        "\n",
        "  plt.plot(x, train_accs, label=label1)\n",
        "  plt.plot(x, test_accs, label=label2)\n",
        "  plt.legend()\n",
        "  plt.show()\n",
        "\n",
        "plot_acc(train_accs=train_accs, test_accs=test_accs, label1='train', label2='test')"
      ],
      "metadata": {
        "colab": {
          "base_uri": "https://localhost:8080/",
          "height": 430
        },
        "id": "KW_xcdYb_hbX",
        "outputId": "8a5908fc-bd79-4963-f24b-d26bbedd455f"
      },
      "execution_count": 9,
      "outputs": [
        {
          "output_type": "display_data",
          "data": {
            "text/plain": [
              "<Figure size 640x480 with 1 Axes>"
            ],
            "image/png": "[encoded data removed]"
          },
          "metadata": {}
        }
      ]
    }
  ]
}